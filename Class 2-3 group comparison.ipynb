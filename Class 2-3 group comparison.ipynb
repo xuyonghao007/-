{
 "cells": [
  {
   "cell_type": "code",
   "execution_count": 9,
   "id": "5a8d5422",
   "metadata": {},
   "outputs": [],
   "source": [
    "\n",
    "from matplotlib import pyplot as plt\n",
    "import os\n",
    "import pandas as pd\n",
    "import numpy as np\n",
    "from scipy.stats.mstats import winsorize\n",
    "import seaborn as sns\n",
    "import time\n",
    "from scipy import stats\n"
   ]
  },
  {
   "cell_type": "code",
   "execution_count": 10,
   "id": "687d7028",
   "metadata": {},
   "outputs": [],
   "source": [
    "\n",
    "chang_path=\"D:/Python Basics/Class Data/\"\n",
    "os.chdir(chang_path)\n",
    "\n",
    "dataframe_new=pd.read_csv(\"CEO_Data.csv\")\n"
   ]
  },
  {
   "cell_type": "code",
   "execution_count": 11,
   "id": "a8bebf35",
   "metadata": {},
   "outputs": [],
   "source": [
    "for i in dataframe_new[['Age','TotalSalary','Female','SharEnd', 'IsDuality']]:\n",
    "    dataframe_new[i]=np.where(dataframe_new[i].isnull(), np.nan, winsorize(np.ma.masked_invalid(dataframe_new[i]),limits=(0.01,0.01)))\n",
    "dataframe_new['Year'] = dataframe_new.apply(lambda x : int(x['Reptdt'][0:4]),axis=1) \n",
    "\n"
   ]
  },
  {
   "cell_type": "code",
   "execution_count": 13,
   "id": "887f6c29",
   "metadata": {},
   "outputs": [],
   "source": [
    "df=dataframe_new\n",
    "\n",
    "Female_data=df[(df.Female==1) & (df.Year<=2018) & (df.Year>=2000)][['Age','TotalSalary','SharEnd', 'TMTP', 'IsDuality']]\n",
    "Male_data=df[ (df.Female==0)  & (df.Year<=2018) & (df.Year>=2000)][['Age','TotalSalary','SharEnd', 'TMTP', 'IsDuality']]\n"
   ]
  },
  {
   "cell_type": "code",
   "execution_count": 14,
   "id": "ec03271d",
   "metadata": {},
   "outputs": [],
   "source": [
    "summary_stats1=Female_data.describe(percentiles=[0.01,0.25,0.75, 0.99])\n",
    "summary_stats1 = summary_stats1.T ##转置方便看结果\n",
    "summary_stats2= Male_data.describe(percentiles=[0.01,0.25,0.75, 0.99])\n",
    "summary_stats2 = summary_stats2.T ##转置方便看结果\n",
    "summary_stats2=summary_stats2.reset_index()\n",
    "with pd.ExcelWriter('summary_stats_CEO_by_gender.xlsx') as writer:\n",
    "     summary_stats1.to_excel(writer, sheet_name='summary_female')\n",
    "     summary_stats2.to_excel(writer, sheet_name='summary_male')\n",
    "     "
   ]
  },
  {
   "cell_type": "code",
   "execution_count": 15,
   "id": "6ed9cdcd",
   "metadata": {},
   "outputs": [],
   "source": [
    "\n",
    "Female_age=Female_data['Age'].values\n",
    "Male_age=Male_data['Age'].values\n",
    "\n",
    "diff_age=Female_data['Age'].mean(skipna=True)-Male_data['Age'].mean(skipna=True)\n",
    "\n"
   ]
  },
  {
   "cell_type": "code",
   "execution_count": 16,
   "id": "051a00ac",
   "metadata": {},
   "outputs": [
    {
     "name": "stdout",
     "output_type": "stream",
     "text": [
      "女性比男性CEO年龄大: -0.26603902943471525 t:值 1.8727313563298849 p值: 0.06111251374393296\n",
      "女性比男性CEO薪酬高: 51518.37596725859 t:值 3.1303669520043904 p值: 0.0017472874570599484\n"
     ]
    }
   ],
   "source": [
    "t2, p2 = stats.ttest_ind(Male_age, Female_age,nan_policy='omit')\n",
    "print(\"女性比男性CEO年龄大:\",diff_age ,\"t:值\",t2, \"p值:\",p2)\n",
    "\n",
    "diff_salary=Female_data['TotalSalary'].mean(skipna=True)-Male_data['TotalSalary'].mean(skipna=True)\n",
    "\n",
    "t3, p3 = stats.ttest_ind(Female_data['TotalSalary'].values, Male_data['TotalSalary'].values,nan_policy='omit')\n",
    "print(\"女性比男性CEO薪酬高:\",diff_salary ,\"t:值\",t3, \"p值:\",p3)"
   ]
  },
  {
   "cell_type": "code",
   "execution_count": null,
   "id": "6878674b",
   "metadata": {},
   "outputs": [],
   "source": []
  },
  {
   "cell_type": "code",
   "execution_count": null,
   "id": "faeaa5b9",
   "metadata": {},
   "outputs": [],
   "source": []
  }
 ],
 "metadata": {
  "kernelspec": {
   "display_name": "Python 3 (ipykernel)",
   "language": "python",
   "name": "python3"
  },
  "language_info": {
   "codemirror_mode": {
    "name": "ipython",
    "version": 3
   },
   "file_extension": ".py",
   "mimetype": "text/x-python",
   "name": "python",
   "nbconvert_exporter": "python",
   "pygments_lexer": "ipython3",
   "version": "3.9.12"
  }
 },
 "nbformat": 4,
 "nbformat_minor": 5
}
