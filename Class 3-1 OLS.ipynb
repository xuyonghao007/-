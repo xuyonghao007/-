{
 "cells": [
  {
   "cell_type": "code",
   "execution_count": 1,
   "id": "b4be3f3a",
   "metadata": {},
   "outputs": [],
   "source": [
    "import os\n",
    "import pandas as pd\n",
    "import numpy as np\n",
    "from scipy.stats.mstats import winsorize\n",
    "import seaborn as sns\n",
    "from scipy import stats"
   ]
  },
  {
   "cell_type": "code",
   "execution_count": 2,
   "id": "c33aeb00",
   "metadata": {},
   "outputs": [],
   "source": [
    "\n",
    "chang_path=\"D:/中南财经政法大学/课程资料 class info/金融计量/参考数据\"\n",
    "os.chdir(chang_path)"
   ]
  },
  {
   "cell_type": "code",
   "execution_count": 3,
   "id": "a62152dd",
   "metadata": {},
   "outputs": [
    {
     "name": "stdout",
     "output_type": "stream",
     "text": [
      "stkcd            int64\n",
      "year             int64\n",
      "Female           int64\n",
      "Age            float64\n",
      "TotalSalary    float64\n",
      "IsDuality        int64\n",
      "dtype: object\n"
     ]
    }
   ],
   "source": [
    "dataframe1=pd.read_csv(\"CEO_Data.csv\")\n",
    "dataframe1['year'] = dataframe1.apply(lambda x : int(x['Reptdt'][0:4]),axis=1) \n",
    "dataframe1=dataframe1[['Stkcd', 'year', 'Female','Age','TotalSalary', 'IsDuality']]\n",
    "dataframe1.rename(columns={\"Stkcd\": \"stkcd\"},inplace=True)\n",
    "print(dataframe1.dtypes)"
   ]
  },
  {
   "cell_type": "code",
   "execution_count": 7,
   "id": "9c577b9f",
   "metadata": {},
   "outputs": [],
   "source": [
    "dataframe2=pd.read_csv(\"Female_board_per.csv\")\n",
    "dataframe3=pd.read_csv(\"公司年度价值指标.csv\")\n",
    "dataframe4=pd.read_csv(\"公司年度金融数据.csv\")"
   ]
  },
  {
   "cell_type": "code",
   "execution_count": 8,
   "id": "07007ae2",
   "metadata": {},
   "outputs": [],
   "source": [
    "whole_data=pd.merge(left=dataframe1,right=dataframe2, on=[\"stkcd\",\"year\"] ,how=\"inner\") #默认是 inner交集，outer并集\n",
    "whole_data=pd.merge(left=whole_data,right=dataframe3, on=[\"stkcd\",\"year\"] ,how=\"inner\") #默认是 inner交集，outer并集\n",
    "whole_data=pd.merge(left=whole_data,right=dataframe4, on=[\"stkcd\",\"year\"] ,how=\"inner\") #默认是 inner交集，outer并集\n"
   ]
  },
  {
   "cell_type": "code",
   "execution_count": 9,
   "id": "0defb8c3",
   "metadata": {},
   "outputs": [
    {
     "data": {
      "text/html": [
       "<div>\n",
       "<style scoped>\n",
       "    .dataframe tbody tr th:only-of-type {\n",
       "        vertical-align: middle;\n",
       "    }\n",
       "\n",
       "    .dataframe tbody tr th {\n",
       "        vertical-align: top;\n",
       "    }\n",
       "\n",
       "    .dataframe thead th {\n",
       "        text-align: right;\n",
       "    }\n",
       "</style>\n",
       "<table border=\"1\" class=\"dataframe\">\n",
       "  <thead>\n",
       "    <tr style=\"text-align: right;\">\n",
       "      <th></th>\n",
       "      <th>stkcd</th>\n",
       "      <th>year</th>\n",
       "      <th>Female</th>\n",
       "      <th>Age</th>\n",
       "      <th>TotalSalary</th>\n",
       "      <th>IsDuality</th>\n",
       "      <th>Female_board_per</th>\n",
       "      <th>Indirect_per</th>\n",
       "      <th>indcd</th>\n",
       "      <th>pe</th>\n",
       "      <th>tobinq</th>\n",
       "      <th>bm</th>\n",
       "      <th>asset</th>\n",
       "      <th>debt_asset</th>\n",
       "      <th>roa</th>\n",
       "      <th>log_asset</th>\n",
       "    </tr>\n",
       "  </thead>\n",
       "  <tbody>\n",
       "    <tr>\n",
       "      <th>0</th>\n",
       "      <td>1</td>\n",
       "      <td>2006</td>\n",
       "      <td>0</td>\n",
       "      <td>64.0</td>\n",
       "      <td>9950000.0</td>\n",
       "      <td>1</td>\n",
       "      <td>0.000000</td>\n",
       "      <td>0.307692</td>\n",
       "      <td>J66</td>\n",
       "      <td>21.610182</td>\n",
       "      <td>1.060375</td>\n",
       "      <td>0.943159</td>\n",
       "      <td>2.605763e+11</td>\n",
       "      <td>0.975153</td>\n",
       "      <td>0.005396</td>\n",
       "      <td>26.286161</td>\n",
       "    </tr>\n",
       "    <tr>\n",
       "      <th>1</th>\n",
       "      <td>1</td>\n",
       "      <td>2007</td>\n",
       "      <td>0</td>\n",
       "      <td>65.0</td>\n",
       "      <td>22850000.0</td>\n",
       "      <td>1</td>\n",
       "      <td>0.071429</td>\n",
       "      <td>0.285714</td>\n",
       "      <td>J66</td>\n",
       "      <td>33.407078</td>\n",
       "      <td>1.164319</td>\n",
       "      <td>0.859036</td>\n",
       "      <td>3.525394e+11</td>\n",
       "      <td>0.963107</td>\n",
       "      <td>0.008641</td>\n",
       "      <td>26.588428</td>\n",
       "    </tr>\n",
       "    <tr>\n",
       "      <th>2</th>\n",
       "      <td>1</td>\n",
       "      <td>2007</td>\n",
       "      <td>0</td>\n",
       "      <td>59.0</td>\n",
       "      <td>4210000.0</td>\n",
       "      <td>0</td>\n",
       "      <td>0.071429</td>\n",
       "      <td>0.285714</td>\n",
       "      <td>J66</td>\n",
       "      <td>33.407078</td>\n",
       "      <td>1.164319</td>\n",
       "      <td>0.859036</td>\n",
       "      <td>3.525394e+11</td>\n",
       "      <td>0.963107</td>\n",
       "      <td>0.008641</td>\n",
       "      <td>26.588428</td>\n",
       "    </tr>\n",
       "    <tr>\n",
       "      <th>3</th>\n",
       "      <td>1</td>\n",
       "      <td>2008</td>\n",
       "      <td>0</td>\n",
       "      <td>66.0</td>\n",
       "      <td>15980000.0</td>\n",
       "      <td>1</td>\n",
       "      <td>0.071429</td>\n",
       "      <td>0.285714</td>\n",
       "      <td>J66</td>\n",
       "      <td>47.843208</td>\n",
       "      <td>1.024772</td>\n",
       "      <td>0.976061</td>\n",
       "      <td>4.744402e+11</td>\n",
       "      <td>0.965431</td>\n",
       "      <td>0.001485</td>\n",
       "      <td>26.885401</td>\n",
       "    </tr>\n",
       "    <tr>\n",
       "      <th>4</th>\n",
       "      <td>1</td>\n",
       "      <td>2008</td>\n",
       "      <td>0</td>\n",
       "      <td>60.0</td>\n",
       "      <td>4180000.0</td>\n",
       "      <td>0</td>\n",
       "      <td>0.071429</td>\n",
       "      <td>0.285714</td>\n",
       "      <td>J66</td>\n",
       "      <td>47.843208</td>\n",
       "      <td>1.024772</td>\n",
       "      <td>0.976061</td>\n",
       "      <td>4.744402e+11</td>\n",
       "      <td>0.965431</td>\n",
       "      <td>0.001485</td>\n",
       "      <td>26.885401</td>\n",
       "    </tr>\n",
       "  </tbody>\n",
       "</table>\n",
       "</div>"
      ],
      "text/plain": [
       "   stkcd  year  Female   Age  TotalSalary  IsDuality  Female_board_per  \\\n",
       "0      1  2006       0  64.0    9950000.0          1          0.000000   \n",
       "1      1  2007       0  65.0   22850000.0          1          0.071429   \n",
       "2      1  2007       0  59.0    4210000.0          0          0.071429   \n",
       "3      1  2008       0  66.0   15980000.0          1          0.071429   \n",
       "4      1  2008       0  60.0    4180000.0          0          0.071429   \n",
       "\n",
       "   Indirect_per indcd         pe    tobinq        bm         asset  \\\n",
       "0      0.307692   J66  21.610182  1.060375  0.943159  2.605763e+11   \n",
       "1      0.285714   J66  33.407078  1.164319  0.859036  3.525394e+11   \n",
       "2      0.285714   J66  33.407078  1.164319  0.859036  3.525394e+11   \n",
       "3      0.285714   J66  47.843208  1.024772  0.976061  4.744402e+11   \n",
       "4      0.285714   J66  47.843208  1.024772  0.976061  4.744402e+11   \n",
       "\n",
       "   debt_asset       roa  log_asset  \n",
       "0    0.975153  0.005396  26.286161  \n",
       "1    0.963107  0.008641  26.588428  \n",
       "2    0.963107  0.008641  26.588428  \n",
       "3    0.965431  0.001485  26.885401  \n",
       "4    0.965431  0.001485  26.885401  "
      ]
     },
     "execution_count": 9,
     "metadata": {},
     "output_type": "execute_result"
    }
   ],
   "source": [
    "whole_data.head()"
   ]
  },
  {
   "cell_type": "code",
   "execution_count": 10,
   "id": "26375aea",
   "metadata": {},
   "outputs": [],
   "source": [
    "whole_data=whole_data[(whole_data.year<=2019) & (whole_data.year>=2006)]"
   ]
  },
  {
   "cell_type": "code",
   "execution_count": 11,
   "id": "ccfb6120",
   "metadata": {},
   "outputs": [],
   "source": [
    "for i in whole_data[['Age','TotalSalary','Female','Female_board_per', 'tobinq', 'asset', 'roa', 'debt_asset']]:\n",
    "    whole_data[i]=np.where(whole_data[i].isnull(), np.nan, winsorize(np.ma.masked_invalid(whole_data[i]),limits=(0.01,0.01)))\n",
    "    "
   ]
  },
  {
   "cell_type": "code",
   "execution_count": 13,
   "id": "dfff7643",
   "metadata": {},
   "outputs": [
    {
     "name": "stderr",
     "output_type": "stream",
     "text": [
      "C:\\Users\\xuyonghao\\AppData\\Local\\Temp\\ipykernel_3664\\1380839017.py:2: SettingWithCopyWarning: \n",
      "A value is trying to be set on a copy of a slice from a DataFrame.\n",
      "Try using .loc[row_indexer,col_indexer] = value instead\n",
      "\n",
      "See the caveats in the documentation: https://pandas.pydata.org/pandas-docs/stable/user_guide/indexing.html#returning-a-view-versus-a-copy\n",
      "  df[\"TotalSalary\"] = (df[\"TotalSalary\"]+1).apply(np.log1p)\n",
      "C:\\Users\\xuyonghao\\AppData\\Local\\Temp\\ipykernel_3664\\1380839017.py:3: SettingWithCopyWarning: \n",
      "A value is trying to be set on a copy of a slice from a DataFrame.\n",
      "Try using .loc[row_indexer,col_indexer] = value instead\n",
      "\n",
      "See the caveats in the documentation: https://pandas.pydata.org/pandas-docs/stable/user_guide/indexing.html#returning-a-view-versus-a-copy\n",
      "  df[\"asset\"] = (df[\"asset\"]+1).apply(np.log1p)\n"
     ]
    }
   ],
   "source": [
    "df=whole_data[['TotalSalary','Female','Age','Female_board_per', 'tobinq', 'asset', 'roa', 'debt_asset']]\n",
    "df[\"TotalSalary\"] = (df[\"TotalSalary\"]+1).apply(np.log1p)\n",
    "df[\"asset\"] = (df[\"asset\"]+1).apply(np.log1p)\n"
   ]
  },
  {
   "cell_type": "code",
   "execution_count": 20,
   "id": "8bfcb5ec",
   "metadata": {},
   "outputs": [],
   "source": [
    "from statsmodels.stats.outliers_influence import variance_inflation_factor\n",
    "from statsmodels.tools.tools import add_constant\n"
   ]
  },
  {
   "cell_type": "code",
   "execution_count": 28,
   "id": "f13e57cd",
   "metadata": {},
   "outputs": [],
   "source": [
    "df=df.dropna()\n",
    "df=add_constant(df)\n"
   ]
  },
  {
   "cell_type": "code",
   "execution_count": 29,
   "id": "e3b2c894",
   "metadata": {},
   "outputs": [
    {
     "name": "stdout",
     "output_type": "stream",
     "text": [
      "VIF的结果如下\n",
      " const               373.231505\n",
      "TotalSalary           1.048334\n",
      "Female                1.064106\n",
      "Age                   1.035903\n",
      "Female_board_per      1.078771\n",
      "tobinq                1.164049\n",
      "asset                 1.578698\n",
      "roa                   1.296149\n",
      "debt_asset            1.645953\n",
      "dtype: float64\n"
     ]
    }
   ],
   "source": [
    "vif = variance_inflation_factor(df.values,1)\n",
    "vif=pd.Series([variance_inflation_factor(df.values, i) for i in range(df.shape[1])], index=df.columns)\n",
    "print(\"VIF的结果如下\\n\",vif)\n"
   ]
  },
  {
   "cell_type": "code",
   "execution_count": 30,
   "id": "513951bf",
   "metadata": {},
   "outputs": [],
   "source": [
    "controls=df[['Female','Age','Female_board_per', 'tobinq', 'asset', 'roa', 'debt_asset']]\n",
    "y = df['TotalSalary']"
   ]
  },
  {
   "cell_type": "code",
   "execution_count": 31,
   "id": "5c608a7a",
   "metadata": {},
   "outputs": [],
   "source": [
    "x1 = df[['Female','Age', 'tobinq', 'asset', 'roa', 'debt_asset']]\n",
    "x1 = sm.add_constant(x1) \n",
    "y = df['TotalSalary']"
   ]
  },
  {
   "cell_type": "code",
   "execution_count": 32,
   "id": "f5789e63",
   "metadata": {},
   "outputs": [],
   "source": [
    "import statsmodels.formula.api as smf\n",
    "import statsmodels.api as sm"
   ]
  },
  {
   "cell_type": "code",
   "execution_count": 33,
   "id": "b5e3e52a",
   "metadata": {},
   "outputs": [
    {
     "name": "stdout",
     "output_type": "stream",
     "text": [
      "                            OLS Regression Results                            \n",
      "==============================================================================\n",
      "Dep. Variable:            TotalSalary   R-squared:                       0.044\n",
      "Model:                            OLS   Adj. R-squared:                  0.044\n",
      "Method:                 Least Squares   F-statistic:                     279.1\n",
      "Date:                Thu, 21 Sep 2023   Prob (F-statistic):               0.00\n",
      "Time:                        09:20:18   Log-Likelihood:                -76050.\n",
      "No. Observations:               35986   AIC:                         1.521e+05\n",
      "Df Residuals:                   35979   BIC:                         1.522e+05\n",
      "Df Model:                           6                                         \n",
      "Covariance Type:            nonrobust                                         \n",
      "==============================================================================\n",
      "                 coef    std err          t      P>|t|      [0.025      0.975]\n",
      "------------------------------------------------------------------------------\n",
      "const          6.8467      0.200     34.284      0.000       6.455       7.238\n",
      "Female         0.1535      0.044      3.494      0.000       0.067       0.240\n",
      "Age            0.0139      0.002      8.407      0.000       0.011       0.017\n",
      "tobinq         0.0057      0.008      0.761      0.447      -0.009       0.020\n",
      "asset          0.2502      0.009     27.212      0.000       0.232       0.268\n",
      "roa            3.0451      0.176     17.294      0.000       2.700       3.390\n",
      "debt_asset    -0.7895      0.060    -13.114      0.000      -0.908      -0.672\n",
      "==============================================================================\n",
      "Omnibus:                    35121.063   Durbin-Watson:                   1.199\n",
      "Prob(Omnibus):                  0.000   Jarque-Bera (JB):          1304624.540\n",
      "Skew:                          -4.990   Prob(JB):                         0.00\n",
      "Kurtosis:                      30.758   Cond. No.                     1.04e+03\n",
      "==============================================================================\n",
      "\n",
      "Notes:\n",
      "[1] Standard Errors assume that the covariance matrix of the errors is correctly specified.\n",
      "[2] The condition number is large, 1.04e+03. This might indicate that there are\n",
      "strong multicollinearity or other numerical problems.\n"
     ]
    }
   ],
   "source": [
    "result = sm.OLS(y, x1, missing=\"drop\").fit()\n",
    "print(result.summary())"
   ]
  },
  {
   "cell_type": "code",
   "execution_count": 35,
   "id": "910ca003",
   "metadata": {},
   "outputs": [
    {
     "data": {
      "text/html": [
       "<div>\n",
       "<style scoped>\n",
       "    .dataframe tbody tr th:only-of-type {\n",
       "        vertical-align: middle;\n",
       "    }\n",
       "\n",
       "    .dataframe tbody tr th {\n",
       "        vertical-align: top;\n",
       "    }\n",
       "\n",
       "    .dataframe thead th {\n",
       "        text-align: right;\n",
       "    }\n",
       "</style>\n",
       "<table border=\"1\" class=\"dataframe\">\n",
       "  <thead>\n",
       "    <tr style=\"text-align: right;\">\n",
       "      <th></th>\n",
       "      <th>beta</th>\n",
       "      <th>t</th>\n",
       "    </tr>\n",
       "  </thead>\n",
       "  <tbody>\n",
       "    <tr>\n",
       "      <th>const</th>\n",
       "      <td>6.846670</td>\n",
       "      <td>34.283863</td>\n",
       "    </tr>\n",
       "    <tr>\n",
       "      <th>Female</th>\n",
       "      <td>0.153506</td>\n",
       "      <td>3.493908</td>\n",
       "    </tr>\n",
       "    <tr>\n",
       "      <th>Age</th>\n",
       "      <td>0.013939</td>\n",
       "      <td>8.406837</td>\n",
       "    </tr>\n",
       "    <tr>\n",
       "      <th>tobinq</th>\n",
       "      <td>0.005711</td>\n",
       "      <td>0.761219</td>\n",
       "    </tr>\n",
       "    <tr>\n",
       "      <th>asset</th>\n",
       "      <td>0.250160</td>\n",
       "      <td>27.211904</td>\n",
       "    </tr>\n",
       "    <tr>\n",
       "      <th>roa</th>\n",
       "      <td>3.045074</td>\n",
       "      <td>17.293804</td>\n",
       "    </tr>\n",
       "    <tr>\n",
       "      <th>debt_asset</th>\n",
       "      <td>-0.789516</td>\n",
       "      <td>-13.113701</td>\n",
       "    </tr>\n",
       "  </tbody>\n",
       "</table>\n",
       "</div>"
      ],
      "text/plain": [
       "                beta          t\n",
       "const       6.846670  34.283863\n",
       "Female      0.153506   3.493908\n",
       "Age         0.013939   8.406837\n",
       "tobinq      0.005711   0.761219\n",
       "asset       0.250160  27.211904\n",
       "roa         3.045074  17.293804\n",
       "debt_asset -0.789516 -13.113701"
      ]
     },
     "execution_count": 35,
     "metadata": {},
     "output_type": "execute_result"
    }
   ],
   "source": [
    "df_result = pd.concat((result.params, result.tvalues), axis=1)\n",
    "df_result=df_result.rename(columns={0: 'beta', 1: 't'})\n",
    "df_result\n"
   ]
  },
  {
   "cell_type": "code",
   "execution_count": 36,
   "id": "331708c9",
   "metadata": {},
   "outputs": [],
   "source": [
    "with pd.ExcelWriter('OLS_Result_CEO.xlsx') as writer:\n",
    "     df_result.to_excel(writer, sheet_name='sheet1')"
   ]
  },
  {
   "cell_type": "code",
   "execution_count": 1,
   "id": "6aad045b",
   "metadata": {},
   "outputs": [
    {
     "ename": "NameError",
     "evalue": "name 'result' is not defined",
     "output_type": "error",
     "traceback": [
      "\u001b[1;31m---------------------------------------------------------------------------\u001b[0m",
      "\u001b[1;31mNameError\u001b[0m                                 Traceback (most recent call last)",
      "Input \u001b[1;32mIn [1]\u001b[0m, in \u001b[0;36m<cell line: 1>\u001b[1;34m()\u001b[0m\n\u001b[1;32m----> 1\u001b[0m myf_test \u001b[38;5;241m=\u001b[39m \u001b[43mresult\u001b[49m\u001b[38;5;241m.\u001b[39mf_test(\u001b[38;5;124m'\u001b[39m\u001b[38;5;124m(Female = Age*10)\u001b[39m\u001b[38;5;124m'\u001b[39m)\n\u001b[0;32m      2\u001b[0m \u001b[38;5;28mprint\u001b[39m(myf_test)\n\u001b[0;32m      3\u001b[0m \u001b[38;5;66;03m#hypotheses = '(Female = Age)'\u001b[39;00m\n",
      "\u001b[1;31mNameError\u001b[0m: name 'result' is not defined"
     ]
    }
   ],
   "source": [
    "myf_test = result.f_test('(Female = Age*10)')\n",
    "print(myf_test)\n",
    "#hypotheses = '(Female = Age)'\n",
    "myf_test = result.f_test('(Female = Age)')\n",
    "print(myf_test)"
   ]
  },
  {
   "cell_type": "code",
   "execution_count": null,
   "id": "c7c3adc7",
   "metadata": {},
   "outputs": [],
   "source": []
  }
 ],
 "metadata": {
  "kernelspec": {
   "display_name": "Python 3 (ipykernel)",
   "language": "python",
   "name": "python3"
  },
  "language_info": {
   "codemirror_mode": {
    "name": "ipython",
    "version": 3
   },
   "file_extension": ".py",
   "mimetype": "text/x-python",
   "name": "python",
   "nbconvert_exporter": "python",
   "pygments_lexer": "ipython3",
   "version": "3.9.12"
  }
 },
 "nbformat": 4,
 "nbformat_minor": 5
}
