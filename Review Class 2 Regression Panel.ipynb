{
 "cells": [
  {
   "cell_type": "code",
   "execution_count": 6,
   "id": "3c3d9b95",
   "metadata": {},
   "outputs": [],
   "source": [
    "import os\n",
    "import pandas as pd\n",
    "import numpy as np\n",
    "from scipy.stats.mstats import winsorize\n",
    "import seaborn as sns\n",
    "from scipy import stats\n",
    "import sys\n",
    "sys_path=\"d:\\\\software\\\\python3\\\\lib\\\\site-packages\"\n",
    "sys.path.append(sys_path)\n",
    "chang_path=\"D:/中南财经政法大学/课程资料 class info/金融计量/参考数据\"\n",
    "os.chdir(chang_path)\n",
    "import warnings\n",
    "warnings.filterwarnings(\"ignore\")\n"
   ]
  },
  {
   "cell_type": "code",
   "execution_count": 7,
   "id": "4bd3f317",
   "metadata": {},
   "outputs": [
    {
     "data": {
      "text/html": [
       "<div>\n",
       "<style scoped>\n",
       "    .dataframe tbody tr th:only-of-type {\n",
       "        vertical-align: middle;\n",
       "    }\n",
       "\n",
       "    .dataframe tbody tr th {\n",
       "        vertical-align: top;\n",
       "    }\n",
       "\n",
       "    .dataframe thead th {\n",
       "        text-align: right;\n",
       "    }\n",
       "</style>\n",
       "<table border=\"1\" class=\"dataframe\">\n",
       "  <thead>\n",
       "    <tr style=\"text-align: right;\">\n",
       "      <th></th>\n",
       "      <th>TotalSalary</th>\n",
       "      <th>Female</th>\n",
       "      <th>Age</th>\n",
       "      <th>Female_board_per</th>\n",
       "      <th>tobinq</th>\n",
       "      <th>asset</th>\n",
       "      <th>roa</th>\n",
       "      <th>debt_asset</th>\n",
       "      <th>IsDuality</th>\n",
       "    </tr>\n",
       "  </thead>\n",
       "  <tbody>\n",
       "    <tr>\n",
       "      <th>0</th>\n",
       "      <td>4980000.0</td>\n",
       "      <td>0.0</td>\n",
       "      <td>64.0</td>\n",
       "      <td>0.000000</td>\n",
       "      <td>1.060375</td>\n",
       "      <td>2.605763e+11</td>\n",
       "      <td>0.005396</td>\n",
       "      <td>0.975153</td>\n",
       "      <td>1</td>\n",
       "    </tr>\n",
       "    <tr>\n",
       "      <th>1</th>\n",
       "      <td>4980000.0</td>\n",
       "      <td>0.0</td>\n",
       "      <td>65.0</td>\n",
       "      <td>0.071429</td>\n",
       "      <td>1.164319</td>\n",
       "      <td>3.525394e+11</td>\n",
       "      <td>0.008641</td>\n",
       "      <td>0.963107</td>\n",
       "      <td>1</td>\n",
       "    </tr>\n",
       "    <tr>\n",
       "      <th>2</th>\n",
       "      <td>4210000.0</td>\n",
       "      <td>0.0</td>\n",
       "      <td>59.0</td>\n",
       "      <td>0.071429</td>\n",
       "      <td>1.164319</td>\n",
       "      <td>3.525394e+11</td>\n",
       "      <td>0.008641</td>\n",
       "      <td>0.963107</td>\n",
       "      <td>0</td>\n",
       "    </tr>\n",
       "    <tr>\n",
       "      <th>3</th>\n",
       "      <td>4980000.0</td>\n",
       "      <td>0.0</td>\n",
       "      <td>65.0</td>\n",
       "      <td>0.071429</td>\n",
       "      <td>1.024772</td>\n",
       "      <td>4.744402e+11</td>\n",
       "      <td>0.001485</td>\n",
       "      <td>0.965431</td>\n",
       "      <td>1</td>\n",
       "    </tr>\n",
       "    <tr>\n",
       "      <th>4</th>\n",
       "      <td>4180000.0</td>\n",
       "      <td>0.0</td>\n",
       "      <td>60.0</td>\n",
       "      <td>0.071429</td>\n",
       "      <td>1.024772</td>\n",
       "      <td>4.744402e+11</td>\n",
       "      <td>0.001485</td>\n",
       "      <td>0.965431</td>\n",
       "      <td>0</td>\n",
       "    </tr>\n",
       "  </tbody>\n",
       "</table>\n",
       "</div>"
      ],
      "text/plain": [
       "   TotalSalary  Female   Age  Female_board_per    tobinq         asset  \\\n",
       "0    4980000.0     0.0  64.0          0.000000  1.060375  2.605763e+11   \n",
       "1    4980000.0     0.0  65.0          0.071429  1.164319  3.525394e+11   \n",
       "2    4210000.0     0.0  59.0          0.071429  1.164319  3.525394e+11   \n",
       "3    4980000.0     0.0  65.0          0.071429  1.024772  4.744402e+11   \n",
       "4    4180000.0     0.0  60.0          0.071429  1.024772  4.744402e+11   \n",
       "\n",
       "        roa  debt_asset  IsDuality  \n",
       "0  0.005396    0.975153          1  \n",
       "1  0.008641    0.963107          1  \n",
       "2  0.008641    0.963107          0  \n",
       "3  0.001485    0.965431          1  \n",
       "4  0.001485    0.965431          0  "
      ]
     },
     "execution_count": 7,
     "metadata": {},
     "output_type": "execute_result"
    }
   ],
   "source": [
    "whole_data=pd.read_csv(\"whole_data_female.csv\")\n",
    "df=whole_data[['TotalSalary','Female','Age','Female_board_per', 'tobinq', 'asset', 'roa', 'debt_asset', 'IsDuality']]\n",
    "df.head()\n"
   ]
  },
  {
   "cell_type": "code",
   "execution_count": 8,
   "id": "061387ca",
   "metadata": {},
   "outputs": [],
   "source": [
    "df[\"TotalSalary\"] = (df[\"TotalSalary\"]+1).apply(np.log1p)\n",
    "df[\"asset\"] = (df[\"asset\"]+1).apply(np.log1p)\n",
    "df=df.dropna()\n",
    "#数据初步处理"
   ]
  },
  {
   "cell_type": "code",
   "execution_count": 9,
   "id": "4f689e83",
   "metadata": {},
   "outputs": [
    {
     "data": {
      "text/html": [
       "<div>\n",
       "<style scoped>\n",
       "    .dataframe tbody tr th:only-of-type {\n",
       "        vertical-align: middle;\n",
       "    }\n",
       "\n",
       "    .dataframe tbody tr th {\n",
       "        vertical-align: top;\n",
       "    }\n",
       "\n",
       "    .dataframe thead th {\n",
       "        text-align: right;\n",
       "    }\n",
       "</style>\n",
       "<table border=\"1\" class=\"dataframe\">\n",
       "  <thead>\n",
       "    <tr style=\"text-align: right;\">\n",
       "      <th></th>\n",
       "      <th>count</th>\n",
       "      <th>mean</th>\n",
       "      <th>std</th>\n",
       "      <th>min</th>\n",
       "      <th>1%</th>\n",
       "      <th>25%</th>\n",
       "      <th>50%</th>\n",
       "      <th>75%</th>\n",
       "      <th>99%</th>\n",
       "      <th>max</th>\n",
       "    </tr>\n",
       "  </thead>\n",
       "  <tbody>\n",
       "    <tr>\n",
       "      <th>TotalSalary</th>\n",
       "      <td>35958.0</td>\n",
       "      <td>12.837254</td>\n",
       "      <td>2.045179</td>\n",
       "      <td>0.693147</td>\n",
       "      <td>0.693147</td>\n",
       "      <td>12.572457</td>\n",
       "      <td>13.122367</td>\n",
       "      <td>13.630117</td>\n",
       "      <td>15.420941</td>\n",
       "      <td>15.420941</td>\n",
       "    </tr>\n",
       "    <tr>\n",
       "      <th>Female</th>\n",
       "      <td>35958.0</td>\n",
       "      <td>0.061655</td>\n",
       "      <td>0.240532</td>\n",
       "      <td>0.000000</td>\n",
       "      <td>0.000000</td>\n",
       "      <td>0.000000</td>\n",
       "      <td>0.000000</td>\n",
       "      <td>0.000000</td>\n",
       "      <td>1.000000</td>\n",
       "      <td>1.000000</td>\n",
       "    </tr>\n",
       "    <tr>\n",
       "      <th>Age</th>\n",
       "      <td>35958.0</td>\n",
       "      <td>48.805579</td>\n",
       "      <td>6.469354</td>\n",
       "      <td>33.000000</td>\n",
       "      <td>33.000000</td>\n",
       "      <td>44.000000</td>\n",
       "      <td>49.000000</td>\n",
       "      <td>53.000000</td>\n",
       "      <td>65.000000</td>\n",
       "      <td>65.000000</td>\n",
       "    </tr>\n",
       "    <tr>\n",
       "      <th>Female_board_per</th>\n",
       "      <td>35958.0</td>\n",
       "      <td>0.136450</td>\n",
       "      <td>0.123248</td>\n",
       "      <td>0.000000</td>\n",
       "      <td>0.000000</td>\n",
       "      <td>0.000000</td>\n",
       "      <td>0.111111</td>\n",
       "      <td>0.222222</td>\n",
       "      <td>0.500000</td>\n",
       "      <td>0.500000</td>\n",
       "    </tr>\n",
       "    <tr>\n",
       "      <th>tobinq</th>\n",
       "      <td>35958.0</td>\n",
       "      <td>2.193617</td>\n",
       "      <td>1.514426</td>\n",
       "      <td>0.927213</td>\n",
       "      <td>0.927213</td>\n",
       "      <td>1.311606</td>\n",
       "      <td>1.704382</td>\n",
       "      <td>2.460665</td>\n",
       "      <td>10.303706</td>\n",
       "      <td>10.314468</td>\n",
       "    </tr>\n",
       "    <tr>\n",
       "      <th>asset</th>\n",
       "      <td>35958.0</td>\n",
       "      <td>21.987056</td>\n",
       "      <td>1.425302</td>\n",
       "      <td>19.306722</td>\n",
       "      <td>19.309720</td>\n",
       "      <td>20.974032</td>\n",
       "      <td>21.761530</td>\n",
       "      <td>22.710551</td>\n",
       "      <td>27.040482</td>\n",
       "      <td>27.069975</td>\n",
       "    </tr>\n",
       "    <tr>\n",
       "      <th>roa</th>\n",
       "      <td>35958.0</td>\n",
       "      <td>0.043734</td>\n",
       "      <td>0.067904</td>\n",
       "      <td>-0.269333</td>\n",
       "      <td>-0.266728</td>\n",
       "      <td>0.015064</td>\n",
       "      <td>0.041857</td>\n",
       "      <td>0.077725</td>\n",
       "      <td>0.225832</td>\n",
       "      <td>0.225832</td>\n",
       "    </tr>\n",
       "    <tr>\n",
       "      <th>debt_asset</th>\n",
       "      <td>35958.0</td>\n",
       "      <td>0.438795</td>\n",
       "      <td>0.224213</td>\n",
       "      <td>0.047019</td>\n",
       "      <td>0.047085</td>\n",
       "      <td>0.259349</td>\n",
       "      <td>0.427804</td>\n",
       "      <td>0.603414</td>\n",
       "      <td>0.986045</td>\n",
       "      <td>0.988413</td>\n",
       "    </tr>\n",
       "    <tr>\n",
       "      <th>IsDuality</th>\n",
       "      <td>35958.0</td>\n",
       "      <td>0.262779</td>\n",
       "      <td>0.440149</td>\n",
       "      <td>0.000000</td>\n",
       "      <td>0.000000</td>\n",
       "      <td>0.000000</td>\n",
       "      <td>0.000000</td>\n",
       "      <td>1.000000</td>\n",
       "      <td>1.000000</td>\n",
       "      <td>1.000000</td>\n",
       "    </tr>\n",
       "  </tbody>\n",
       "</table>\n",
       "</div>"
      ],
      "text/plain": [
       "                    count       mean       std        min         1%  \\\n",
       "TotalSalary       35958.0  12.837254  2.045179   0.693147   0.693147   \n",
       "Female            35958.0   0.061655  0.240532   0.000000   0.000000   \n",
       "Age               35958.0  48.805579  6.469354  33.000000  33.000000   \n",
       "Female_board_per  35958.0   0.136450  0.123248   0.000000   0.000000   \n",
       "tobinq            35958.0   2.193617  1.514426   0.927213   0.927213   \n",
       "asset             35958.0  21.987056  1.425302  19.306722  19.309720   \n",
       "roa               35958.0   0.043734  0.067904  -0.269333  -0.266728   \n",
       "debt_asset        35958.0   0.438795  0.224213   0.047019   0.047085   \n",
       "IsDuality         35958.0   0.262779  0.440149   0.000000   0.000000   \n",
       "\n",
       "                        25%        50%        75%        99%        max  \n",
       "TotalSalary       12.572457  13.122367  13.630117  15.420941  15.420941  \n",
       "Female             0.000000   0.000000   0.000000   1.000000   1.000000  \n",
       "Age               44.000000  49.000000  53.000000  65.000000  65.000000  \n",
       "Female_board_per   0.000000   0.111111   0.222222   0.500000   0.500000  \n",
       "tobinq             1.311606   1.704382   2.460665  10.303706  10.314468  \n",
       "asset             20.974032  21.761530  22.710551  27.040482  27.069975  \n",
       "roa                0.015064   0.041857   0.077725   0.225832   0.225832  \n",
       "debt_asset         0.259349   0.427804   0.603414   0.986045   0.988413  \n",
       "IsDuality          0.000000   0.000000   1.000000   1.000000   1.000000  "
      ]
     },
     "execution_count": 9,
     "metadata": {},
     "output_type": "execute_result"
    }
   ],
   "source": [
    "summary_stats1=df.describe(percentiles=[0.01,0.25,0.75, 0.99])\n",
    "summary_stats1 = summary_stats1.T ##转置方便看结果\n",
    "summary_stats1"
   ]
  },
  {
   "cell_type": "code",
   "execution_count": 10,
   "id": "695a17bc",
   "metadata": {},
   "outputs": [],
   "source": [
    "with pd.ExcelWriter('Temp_summary.xlsx') as writer:\n",
    "     summary_stats1.to_excel(writer, sheet_name='Temp_summary')"
   ]
  },
  {
   "cell_type": "code",
   "execution_count": 11,
   "id": "240bb6ad",
   "metadata": {},
   "outputs": [],
   "source": [
    "from statsmodels.stats.outliers_influence import variance_inflation_factor\n",
    "from statsmodels.tools.tools import add_constant"
   ]
  },
  {
   "cell_type": "code",
   "execution_count": 7,
   "id": "7b1aad0f",
   "metadata": {},
   "outputs": [
    {
     "name": "stdout",
     "output_type": "stream",
     "text": [
      "VIF的结果如下\n",
      " const               376.606711\n",
      "TotalSalary           1.048473\n",
      "Female                1.067545\n",
      "Age                   1.075451\n",
      "Female_board_per      1.088918\n",
      "tobinq                1.164198\n",
      "asset                 1.606324\n",
      "roa                   1.296923\n",
      "debt_asset            1.655046\n",
      "IsDuality             1.097753\n",
      "dtype: float64\n"
     ]
    }
   ],
   "source": [
    "df=add_constant(df)\n",
    "#vif = variance_inflation_factor(df.values,1)\n",
    "vif=pd.Series([variance_inflation_factor(df.values, i) for i in range(df.shape[1])], index=df.columns)\n",
    "print(\"VIF的结果如下\\n\",vif)"
   ]
  },
  {
   "cell_type": "code",
   "execution_count": 12,
   "id": "57396623",
   "metadata": {},
   "outputs": [],
   "source": [
    "import statsmodels.formula.api as smf\n",
    "import statsmodels.api as sm\n"
   ]
  },
  {
   "cell_type": "code",
   "execution_count": 13,
   "id": "1e7e9a0e",
   "metadata": {},
   "outputs": [
    {
     "name": "stdout",
     "output_type": "stream",
     "text": [
      "                            OLS Regression Results                            \n",
      "==============================================================================\n",
      "Dep. Variable:            TotalSalary   R-squared:                       0.045\n",
      "Model:                            OLS   Adj. R-squared:                  0.044\n",
      "Method:                 Least Squares   F-statistic:                     240.1\n",
      "Date:                Thu, 14 Dec 2023   Prob (F-statistic):               0.00\n",
      "Time:                        11:40:51   Log-Likelihood:                -75928.\n",
      "No. Observations:               35958   AIC:                         1.519e+05\n",
      "Df Residuals:                   35950   BIC:                         1.519e+05\n",
      "Df Model:                           7                                         \n",
      "Covariance Type:            nonrobust                                         \n",
      "==============================================================================\n",
      "                 coef    std err          t      P>|t|      [0.025      0.975]\n",
      "------------------------------------------------------------------------------\n",
      "const          6.8417      0.201     34.116      0.000       6.449       7.235\n",
      "Female         0.1527      0.044      3.477      0.001       0.067       0.239\n",
      "Age            0.0138      0.002      8.156      0.000       0.010       0.017\n",
      "tobinq         0.0051      0.008      0.686      0.493      -0.010       0.020\n",
      "asset          0.2508      0.009     27.055      0.000       0.233       0.269\n",
      "roa            3.0507      0.176     17.327      0.000       2.706       3.396\n",
      "debt_asset    -0.7902      0.060    -13.102      0.000      -0.908      -0.672\n",
      "IsDuality      0.0079      0.025      0.318      0.751      -0.041       0.057\n",
      "==============================================================================\n",
      "Omnibus:                    35134.667   Durbin-Watson:                   1.202\n",
      "Prob(Omnibus):                  0.000   Jarque-Bera (JB):          1312422.710\n",
      "Skew:                          -4.997   Prob(JB):                         0.00\n",
      "Kurtosis:                      30.859   Cond. No.                     1.05e+03\n",
      "==============================================================================\n",
      "\n",
      "Notes:\n",
      "[1] Standard Errors assume that the covariance matrix of the errors is correctly specified.\n",
      "[2] The condition number is large, 1.05e+03. This might indicate that there are\n",
      "strong multicollinearity or other numerical problems.\n"
     ]
    }
   ],
   "source": [
    "x1 = df[['Female','Age', 'tobinq', 'asset', 'roa', 'debt_asset', 'IsDuality']]\n",
    "x1 = sm.add_constant(x1) \n",
    "y = df['TotalSalary']\n",
    "#%% \n",
    "result = sm.OLS(y, x1, missing=\"drop\").fit()\n",
    "print(result.summary())"
   ]
  },
  {
   "cell_type": "code",
   "execution_count": 14,
   "id": "1377c282",
   "metadata": {},
   "outputs": [
    {
     "name": "stdout",
     "output_type": "stream",
     "text": [
      "<F test: F=0.1017022085824533, p=0.749798254004753, df_denom=3.6e+04, df_num=1>\n",
      "<F test: F=3.5255736013307377, p=0.0604370014004747, df_denom=3.6e+04, df_num=1>\n"
     ]
    }
   ],
   "source": [
    "myf_test = result.f_test('(Female = Age*10)')\n",
    "print(myf_test)\n",
    "#hypotheses = '(Female = Age)'\n",
    "myf_test = result.f_test('(Female = 5*Age)')\n",
    "print(myf_test)"
   ]
  },
  {
   "cell_type": "code",
   "execution_count": 15,
   "id": "0bf88789",
   "metadata": {},
   "outputs": [
    {
     "name": "stdout",
     "output_type": "stream",
     "text": [
      "                            OLS Regression Results                            \n",
      "==============================================================================\n",
      "Dep. Variable:            TotalSalary   R-squared:                       0.045\n",
      "Model:                            OLS   Adj. R-squared:                  0.044\n",
      "Method:                 Least Squares   F-statistic:                     127.9\n",
      "Date:                Thu, 14 Dec 2023   Prob (F-statistic):          1.19e-186\n",
      "Time:                        11:42:48   Log-Likelihood:                -75928.\n",
      "No. Observations:               35958   AIC:                         1.519e+05\n",
      "Df Residuals:                   35950   BIC:                         1.519e+05\n",
      "Df Model:                           7                                         \n",
      "Covariance Type:                  HC3                                         \n",
      "==============================================================================\n",
      "                 coef    std err          z      P>|z|      [0.025      0.975]\n",
      "------------------------------------------------------------------------------\n",
      "const          6.8417      0.270     25.321      0.000       6.312       7.371\n",
      "Female         0.1527      0.037      4.090      0.000       0.079       0.226\n",
      "Age            0.0138      0.002      8.471      0.000       0.011       0.017\n",
      "tobinq         0.0051      0.009      0.587      0.557      -0.012       0.022\n",
      "asset          0.2508      0.013     19.864      0.000       0.226       0.276\n",
      "roa            3.0507      0.217     14.043      0.000       2.625       3.476\n",
      "debt_asset    -0.7902      0.072    -10.900      0.000      -0.932      -0.648\n",
      "IsDuality      0.0079      0.027      0.297      0.767      -0.044       0.060\n",
      "==============================================================================\n",
      "Omnibus:                    35134.667   Durbin-Watson:                   1.202\n",
      "Prob(Omnibus):                  0.000   Jarque-Bera (JB):          1312422.710\n",
      "Skew:                          -4.997   Prob(JB):                         0.00\n",
      "Kurtosis:                      30.859   Cond. No.                     1.05e+03\n",
      "==============================================================================\n",
      "\n",
      "Notes:\n",
      "[1] Standard Errors are heteroscedasticity robust (HC3)\n",
      "[2] The condition number is large, 1.05e+03. This might indicate that there are\n",
      "strong multicollinearity or other numerical problems.\n"
     ]
    }
   ],
   "source": [
    "result = sm.OLS(y, x1, missing=\"drop\").fit(cov_type='HC3')\n",
    "print(result.summary())\n",
    "#异方差稳健标准误"
   ]
  },
  {
   "cell_type": "code",
   "execution_count": 16,
   "id": "753c71bc",
   "metadata": {},
   "outputs": [
    {
     "name": "stdout",
     "output_type": "stream",
     "text": [
      "                            OLS Regression Results                            \n",
      "==============================================================================\n",
      "Dep. Variable:            TotalSalary   R-squared:                       0.045\n",
      "Model:                            OLS   Adj. R-squared:                  0.045\n",
      "Method:                 Least Squares   F-statistic:                     210.8\n",
      "Date:                Thu, 14 Dec 2023   Prob (F-statistic):               0.00\n",
      "Time:                        11:43:28   Log-Likelihood:                -75925.\n",
      "No. Observations:               35958   AIC:                         1.519e+05\n",
      "Df Residuals:                   35949   BIC:                         1.519e+05\n",
      "Df Model:                           8                                         \n",
      "Covariance Type:            nonrobust                                         \n",
      "==============================================================================\n",
      "                 coef    std err          t      P>|t|      [0.025      0.975]\n",
      "------------------------------------------------------------------------------\n",
      "const          6.8364      0.201     34.089      0.000       6.443       7.229\n",
      "Female         0.2268      0.054      4.212      0.000       0.121       0.332\n",
      "Age            0.0138      0.002      8.181      0.000       0.011       0.017\n",
      "tobinq         0.0050      0.008      0.670      0.503      -0.010       0.020\n",
      "asset          0.2508      0.009     27.054      0.000       0.233       0.269\n",
      "roa            3.1478      0.181     17.417      0.000       2.794       3.502\n",
      "debt_asset    -0.7899      0.060    -13.097      0.000      -0.908      -0.672\n",
      "IsDuality      0.0072      0.025      0.290      0.772      -0.042       0.056\n",
      "Female_roa    -1.5143      0.637     -2.377      0.017      -2.763      -0.266\n",
      "==============================================================================\n",
      "Omnibus:                    35134.796   Durbin-Watson:                   1.202\n",
      "Prob(Omnibus):                  0.000   Jarque-Bera (JB):          1312677.136\n",
      "Skew:                          -4.997   Prob(JB):                         0.00\n",
      "Kurtosis:                      30.862   Cond. No.                     3.27e+03\n",
      "==============================================================================\n",
      "\n",
      "Notes:\n",
      "[1] Standard Errors assume that the covariance matrix of the errors is correctly specified.\n",
      "[2] The condition number is large, 3.27e+03. This might indicate that there are\n",
      "strong multicollinearity or other numerical problems.\n"
     ]
    }
   ],
   "source": [
    "x1 = df[['Female','Age', 'tobinq', 'asset', 'roa', 'debt_asset', 'IsDuality']]\n",
    "x1= sm.add_constant(x1) \n",
    "x1['Female_roa'] =x1['Female']*x1['roa'] \n",
    "y = df['TotalSalary']\n",
    "#%% \n",
    "result = sm.OLS(y, x1, missing=\"drop\").fit()\n",
    "print(result.summary())"
   ]
  },
  {
   "cell_type": "markdown",
   "id": "d496f370",
   "metadata": {},
   "source": [
    "# 2面板数据"
   ]
  },
  {
   "cell_type": "code",
   "execution_count": 19,
   "id": "81d6714d",
   "metadata": {},
   "outputs": [
    {
     "data": {
      "text/html": [
       "<div>\n",
       "<style scoped>\n",
       "    .dataframe tbody tr th:only-of-type {\n",
       "        vertical-align: middle;\n",
       "    }\n",
       "\n",
       "    .dataframe tbody tr th {\n",
       "        vertical-align: top;\n",
       "    }\n",
       "\n",
       "    .dataframe thead th {\n",
       "        text-align: right;\n",
       "    }\n",
       "</style>\n",
       "<table border=\"1\" class=\"dataframe\">\n",
       "  <thead>\n",
       "    <tr style=\"text-align: right;\">\n",
       "      <th></th>\n",
       "      <th></th>\n",
       "      <th>TotalSalary</th>\n",
       "      <th>Female</th>\n",
       "      <th>Age</th>\n",
       "      <th>Female_board_per</th>\n",
       "      <th>tobinq</th>\n",
       "      <th>asset</th>\n",
       "      <th>roa</th>\n",
       "      <th>debt_asset</th>\n",
       "      <th>IsDuality</th>\n",
       "    </tr>\n",
       "    <tr>\n",
       "      <th>stkcd</th>\n",
       "      <th>year</th>\n",
       "      <th></th>\n",
       "      <th></th>\n",
       "      <th></th>\n",
       "      <th></th>\n",
       "      <th></th>\n",
       "      <th></th>\n",
       "      <th></th>\n",
       "      <th></th>\n",
       "      <th></th>\n",
       "    </tr>\n",
       "  </thead>\n",
       "  <tbody>\n",
       "    <tr>\n",
       "      <th rowspan=\"5\" valign=\"top\">1</th>\n",
       "      <th>2006</th>\n",
       "      <td>15.420941</td>\n",
       "      <td>0.0</td>\n",
       "      <td>64.0</td>\n",
       "      <td>0.000000</td>\n",
       "      <td>1.060375</td>\n",
       "      <td>26.286161</td>\n",
       "      <td>0.005396</td>\n",
       "      <td>0.975153</td>\n",
       "      <td>1</td>\n",
       "    </tr>\n",
       "    <tr>\n",
       "      <th>2007</th>\n",
       "      <td>15.420941</td>\n",
       "      <td>0.0</td>\n",
       "      <td>65.0</td>\n",
       "      <td>0.071429</td>\n",
       "      <td>1.164319</td>\n",
       "      <td>26.588428</td>\n",
       "      <td>0.008641</td>\n",
       "      <td>0.963107</td>\n",
       "      <td>1</td>\n",
       "    </tr>\n",
       "    <tr>\n",
       "      <th>2007</th>\n",
       "      <td>15.252974</td>\n",
       "      <td>0.0</td>\n",
       "      <td>59.0</td>\n",
       "      <td>0.071429</td>\n",
       "      <td>1.164319</td>\n",
       "      <td>26.588428</td>\n",
       "      <td>0.008641</td>\n",
       "      <td>0.963107</td>\n",
       "      <td>0</td>\n",
       "    </tr>\n",
       "    <tr>\n",
       "      <th>2008</th>\n",
       "      <td>15.420941</td>\n",
       "      <td>0.0</td>\n",
       "      <td>65.0</td>\n",
       "      <td>0.071429</td>\n",
       "      <td>1.024772</td>\n",
       "      <td>26.885401</td>\n",
       "      <td>0.001485</td>\n",
       "      <td>0.965431</td>\n",
       "      <td>1</td>\n",
       "    </tr>\n",
       "    <tr>\n",
       "      <th>2008</th>\n",
       "      <td>15.245822</td>\n",
       "      <td>0.0</td>\n",
       "      <td>60.0</td>\n",
       "      <td>0.071429</td>\n",
       "      <td>1.024772</td>\n",
       "      <td>26.885401</td>\n",
       "      <td>0.001485</td>\n",
       "      <td>0.965431</td>\n",
       "      <td>0</td>\n",
       "    </tr>\n",
       "  </tbody>\n",
       "</table>\n",
       "</div>"
      ],
      "text/plain": [
       "            TotalSalary  Female   Age  Female_board_per    tobinq      asset  \\\n",
       "stkcd year                                                                     \n",
       "1     2006    15.420941     0.0  64.0          0.000000  1.060375  26.286161   \n",
       "      2007    15.420941     0.0  65.0          0.071429  1.164319  26.588428   \n",
       "      2007    15.252974     0.0  59.0          0.071429  1.164319  26.588428   \n",
       "      2008    15.420941     0.0  65.0          0.071429  1.024772  26.885401   \n",
       "      2008    15.245822     0.0  60.0          0.071429  1.024772  26.885401   \n",
       "\n",
       "                 roa  debt_asset  IsDuality  \n",
       "stkcd year                                   \n",
       "1     2006  0.005396    0.975153          1  \n",
       "      2007  0.008641    0.963107          1  \n",
       "      2007  0.008641    0.963107          0  \n",
       "      2008  0.001485    0.965431          1  \n",
       "      2008  0.001485    0.965431          0  "
      ]
     },
     "execution_count": 19,
     "metadata": {},
     "output_type": "execute_result"
    }
   ],
   "source": [
    "whole_data=pd.read_csv(\"whole_data_female.csv\")\n",
    "df=whole_data[['stkcd','year','TotalSalary','Female','Age','Female_board_per', 'tobinq', 'asset', 'roa', 'debt_asset', 'IsDuality']]\n",
    "df = df.set_index([\"stkcd\", \"year\"])\n",
    "df[\"TotalSalary\"] = (df[\"TotalSalary\"]+1).apply(np.log1p)\n",
    "df[\"asset\"] = (df[\"asset\"]+1).apply(np.log1p)\n",
    "df=df.dropna()\n",
    "df.head()"
   ]
  },
  {
   "cell_type": "code",
   "execution_count": 20,
   "id": "8083f61f",
   "metadata": {},
   "outputs": [],
   "source": [
    "from linearmodels.panel import PooledOLS\n",
    "\n"
   ]
  },
  {
   "cell_type": "code",
   "execution_count": 21,
   "id": "da6e1745",
   "metadata": {},
   "outputs": [
    {
     "name": "stdout",
     "output_type": "stream",
     "text": [
      "                          PooledOLS Estimation Summary                          \n",
      "================================================================================\n",
      "Dep. Variable:            TotalSalary   R-squared:                        0.0447\n",
      "Estimator:                  PooledOLS   R-squared (Between):              0.1011\n",
      "No. Observations:               35958   R-squared (Within):               0.0230\n",
      "Date:                Thu, Dec 14 2023   R-squared (Overall):              0.0447\n",
      "Time:                        11:50:03   Log-likelihood                -7.593e+04\n",
      "Cov. Estimator:            Unadjusted                                           \n",
      "                                        F-statistic:                      240.07\n",
      "Entities:                        3841   P-value                           0.0000\n",
      "Avg Obs:                       9.3616   Distribution:                 F(7,35950)\n",
      "Min Obs:                       0.0000                                           \n",
      "Max Obs:                       26.000   F-statistic (robust):             240.07\n",
      "                                        P-value                           0.0000\n",
      "Time periods:                      14   Distribution:                 F(7,35950)\n",
      "Avg Obs:                       2568.4                                           \n",
      "Min Obs:                       1399.0                                           \n",
      "Max Obs:                       3942.0                                           \n",
      "                                                                                \n",
      "                             Parameter Estimates                              \n",
      "==============================================================================\n",
      "            Parameter  Std. Err.     T-stat    P-value    Lower CI    Upper CI\n",
      "------------------------------------------------------------------------------\n",
      "const          6.8417     0.2005     34.116     0.0000      6.4487      7.2348\n",
      "Female         0.1527     0.0439     3.4770     0.0005      0.0666      0.2387\n",
      "Age            0.0138     0.0017     8.1558     0.0000      0.0105      0.0171\n",
      "tobinq         0.0051     0.0075     0.6856     0.4930     -0.0096      0.0199\n",
      "asset          0.2508     0.0093     27.055     0.0000      0.2326      0.2690\n",
      "roa            3.0507     0.1761     17.327     0.0000      2.7056      3.3958\n",
      "debt_asset    -0.7902     0.0603    -13.102     0.0000     -0.9084     -0.6720\n",
      "IsDuality      0.0079     0.0250     0.3177     0.7507     -0.0410      0.0569\n",
      "==============================================================================\n"
     ]
    }
   ],
   "source": [
    "x1 = df[['Female','Age', 'tobinq', 'asset', 'roa', 'debt_asset', 'IsDuality']]\n",
    "x1 = sm.add_constant(x1) \n",
    "y = df['TotalSalary']\n",
    "\n",
    "mod = PooledOLS(y, x1)\n",
    "pooled_res = mod.fit()\n",
    "print(pooled_res)"
   ]
  },
  {
   "cell_type": "code",
   "execution_count": 22,
   "id": "9f18f2a1",
   "metadata": {},
   "outputs": [
    {
     "name": "stdout",
     "output_type": "stream",
     "text": [
      "                        RandomEffects Estimation Summary                        \n",
      "================================================================================\n",
      "Dep. Variable:            TotalSalary   R-squared:                        0.2961\n",
      "Estimator:              RandomEffects   R-squared (Between):              0.0674\n",
      "No. Observations:               35958   R-squared (Within):               0.0319\n",
      "Date:                Thu, Dec 14 2023   R-squared (Overall):              0.0401\n",
      "Time:                        11:50:22   Log-likelihood                -7.209e+04\n",
      "Cov. Estimator:            Unadjusted                                           \n",
      "                                        F-statistic:                      2160.4\n",
      "Entities:                        3841   P-value                           0.0000\n",
      "Avg Obs:                       9.3616   Distribution:                 F(7,35950)\n",
      "Min Obs:                       0.0000                                           \n",
      "Max Obs:                       26.000   F-statistic (robust):             192.87\n",
      "                                        P-value                           0.0000\n",
      "Time periods:                      14   Distribution:                 F(7,35950)\n",
      "Avg Obs:                       2568.4                                           \n",
      "Min Obs:                       1399.0                                           \n",
      "Max Obs:                       3942.0                                           \n",
      "                                                                                \n",
      "                             Parameter Estimates                              \n",
      "==============================================================================\n",
      "            Parameter  Std. Err.     T-stat    P-value    Lower CI    Upper CI\n",
      "------------------------------------------------------------------------------\n",
      "const          5.3449     0.2385     22.415     0.0000      4.8776      5.8123\n",
      "Female         0.1206     0.0494     2.4421     0.0146      0.0238      0.2173\n",
      "Age            0.0191     0.0019     10.298     0.0000      0.0154      0.0227\n",
      "tobinq         0.0250     0.0078     3.1917     0.0014      0.0097      0.0404\n",
      "asset          0.3121     0.0112     27.892     0.0000      0.2902      0.3341\n",
      "roa            2.0591     0.1771     11.626     0.0000      1.7120      2.4062\n",
      "debt_asset    -0.8382     0.0709    -11.830     0.0000     -0.9771     -0.6994\n",
      "IsDuality     -0.0981     0.0282    -3.4833     0.0005     -0.1533     -0.0429\n",
      "==============================================================================\n"
     ]
    }
   ],
   "source": [
    "from linearmodels.panel import RandomEffects\n",
    "\n",
    "mod = RandomEffects(y, x1)\n",
    "RE_Result = mod.fit()\n",
    "print(RE_Result)"
   ]
  },
  {
   "cell_type": "code",
   "execution_count": 23,
   "id": "322d02ba",
   "metadata": {},
   "outputs": [
    {
     "name": "stdout",
     "output_type": "stream",
     "text": [
      "                          PanelOLS Estimation Summary                           \n",
      "================================================================================\n",
      "Dep. Variable:            TotalSalary   R-squared:                        0.0142\n",
      "Estimator:                   PanelOLS   R-squared (Between):             -0.0177\n",
      "No. Observations:               35958   R-squared (Within):               0.0350\n",
      "Date:                Thu, Dec 14 2023   R-squared (Overall):              0.0277\n",
      "Time:                        11:50:42   Log-likelihood                 -6.94e+04\n",
      "Cov. Estimator:            Unadjusted                                           \n",
      "                                        F-statistic:                      66.172\n",
      "Entities:                        3841   P-value                           0.0000\n",
      "Avg Obs:                       9.3616   Distribution:                 F(7,32098)\n",
      "Min Obs:                       0.0000                                           \n",
      "Max Obs:                       26.000   F-statistic (robust):             66.172\n",
      "                                        P-value                           0.0000\n",
      "Time periods:                      14   Distribution:                 F(7,32098)\n",
      "Avg Obs:                       2568.4                                           \n",
      "Min Obs:                       1399.0                                           \n",
      "Max Obs:                       3942.0                                           \n",
      "                                                                                \n",
      "                             Parameter Estimates                              \n",
      "==============================================================================\n",
      "            Parameter  Std. Err.     T-stat    P-value    Lower CI    Upper CI\n",
      "------------------------------------------------------------------------------\n",
      "const          5.5480     0.5104     10.871     0.0000      4.5477      6.5484\n",
      "Female         0.0441     0.0608     0.7247     0.4687     -0.0751      0.1633\n",
      "Age            0.0176     0.0022     7.8760     0.0000      0.0132      0.0220\n",
      "tobinq         0.0251     0.0101     2.4946     0.0126      0.0054      0.0449\n",
      "asset          0.2966     0.0231     12.834     0.0000      0.2513      0.3419\n",
      "roa            1.8300     0.1984     9.2255     0.0000      1.4412      2.2188\n",
      "debt_asset    -0.3127     0.0948    -3.2988     0.0010     -0.4985     -0.1269\n",
      "IsDuality     -0.3443     0.0352    -9.7715     0.0000     -0.4133     -0.2752\n",
      "==============================================================================\n",
      "\n",
      "F-test for Poolability: 3.6500\n",
      "P-value: 0.0000\n",
      "Distribution: F(3852,32098)\n",
      "\n",
      "Included effects: Entity, Time\n"
     ]
    }
   ],
   "source": [
    "from linearmodels.panel import PanelOLS\n",
    "\n",
    "Fix_effect_mod = PanelOLS(y, x1, entity_effects=True, time_effects=True)\n",
    "fe_te_res = Fix_effect_mod.fit()\n",
    "print(fe_te_res)"
   ]
  },
  {
   "cell_type": "code",
   "execution_count": 24,
   "id": "cf1758ee",
   "metadata": {},
   "outputs": [
    {
     "name": "stdout",
     "output_type": "stream",
     "text": [
      "                          PanelOLS Estimation Summary                           \n",
      "================================================================================\n",
      "Dep. Variable:            TotalSalary   R-squared:                        0.0142\n",
      "Estimator:                   PanelOLS   R-squared (Between):             -0.0177\n",
      "No. Observations:               35958   R-squared (Within):               0.0350\n",
      "Date:                Thu, Dec 14 2023   R-squared (Overall):              0.0277\n",
      "Time:                        11:56:35   Log-likelihood                 -6.94e+04\n",
      "Cov. Estimator:             Clustered                                           \n",
      "                                        F-statistic:                      66.172\n",
      "Entities:                        3841   P-value                           0.0000\n",
      "Avg Obs:                       9.3616   Distribution:                 F(7,32098)\n",
      "Min Obs:                       0.0000                                           \n",
      "Max Obs:                       26.000   F-statistic (robust):             17.079\n",
      "                                        P-value                           0.0000\n",
      "Time periods:                      14   Distribution:                 F(7,32098)\n",
      "Avg Obs:                       2568.4                                           \n",
      "Min Obs:                       1399.0                                           \n",
      "Max Obs:                       3942.0                                           \n",
      "                                                                                \n",
      "                             Parameter Estimates                              \n",
      "==============================================================================\n",
      "            Parameter  Std. Err.     T-stat    P-value    Lower CI    Upper CI\n",
      "------------------------------------------------------------------------------\n",
      "const          5.5480     0.9739     5.6964     0.0000      3.6391      7.4570\n",
      "Female         0.0441     0.0973     0.4529     0.6507     -0.1467      0.2348\n",
      "Age            0.0176     0.0040     4.4252     0.0000      0.0098      0.0254\n",
      "tobinq         0.0251     0.0152     1.6565     0.0976     -0.0046      0.0548\n",
      "asset          0.2966     0.0453     6.5472     0.0000      0.2078      0.3854\n",
      "roa            1.8300     0.3397     5.3879     0.0000      1.1643      2.4958\n",
      "debt_asset    -0.3127     0.1922    -1.6270     0.1038     -0.6894      0.0640\n",
      "IsDuality     -0.3443     0.0701    -4.9139     0.0000     -0.4816     -0.2070\n",
      "==============================================================================\n",
      "\n",
      "F-test for Poolability: 3.6500\n",
      "P-value: 0.0000\n",
      "Distribution: F(3852,32098)\n",
      "\n",
      "Included effects: Entity, Time\n"
     ]
    }
   ],
   "source": [
    "Fix_effect_mod = PanelOLS(y, x1, entity_effects=True, time_effects=True)\n",
    "fe_te_res = Fix_effect_mod.fit(cov_type=\"clustered\", cluster_entity=True)\n",
    "print(fe_te_res)"
   ]
  },
  {
   "cell_type": "markdown",
   "id": "ed69eeca",
   "metadata": {},
   "source": [
    "“unadjusted”, “homoskedastic” - Assume residual are homoskedastic\n",
    "\n",
    "“robust”, “heteroskedastic” - Control for heteroskedasticity using White’s estimator\n",
    "\n",
    "“clustered` - One- or two-way clustering. Configuration options are:\n",
    "\n",
    "clusters - Input containing 1 or 2 variables. Clusters should be integer values, although other types will be coerced to integer values by treating as categorical variables\n",
    "\n",
    "cluster_entity - Boolean flag indicating to use entity clusters\n",
    "\n",
    "cluster_time - Boolean indicating to use time clusters"
   ]
  },
  {
   "cell_type": "code",
   "execution_count": 19,
   "id": "ec2c4187",
   "metadata": {},
   "outputs": [
    {
     "name": "stdout",
     "output_type": "stream",
     "text": [
      "Linear Equality Hypothesis Test\n",
      "H0: Linear equality constraint is valid\n",
      "Statistic: 0.0744\n",
      "P-value: 0.7850\n",
      "Distributed: chi2(1)\n"
     ]
    }
   ],
   "source": [
    "Fix_effect_mod = PanelOLS(y, x1, entity_effects=True, time_effects=True)\n",
    "fe_te_res = Fix_effect_mod.fit(cov_type=\"clustered\", cluster_entity=True)\n",
    "hypotheses = \"(Female = Age)\"\n",
    "f_test = fe_te_res.wald_test(formula=hypotheses)\n",
    "print(f_test)\n",
    "\n"
   ]
  },
  {
   "cell_type": "markdown",
   "id": "5560ef55",
   "metadata": {},
   "source": [
    "#不要求掌握，大概看一下就好，stata里会更简洁\n",
    "import numpy.linalg as la\n",
    "from scipy import stats\n",
    "import numpy as np\n",
    "def hausman(fe, re):\n",
    " b = fe.params\n",
    " B = re.params\n",
    " v_b = fe.cov\n",
    " v_B = re.cov\n",
    "df = b[np.abs(b) < 1e8].size\n",
    "chi2 = np.dot((b — B).T, la.inv(v_b — v_B).dot(b — B)) \n",
    " \n",
    " pval = stats.chi2.sf(chi2, df)\n",
    "return chi2, df, pval\n",
    "hausman_results = hausman(fe_res, re_res) \n",
    "print(‘chi-Squared: ‘ + str(hausman_results[0]))\n",
    "print(‘degrees of freedom: ‘ + str(hausman_results[1]))\n",
    "print(‘p-Value: ‘ + str(hausman_results[2]))"
   ]
  },
  {
   "cell_type": "markdown",
   "id": "b5c8a2a2",
   "metadata": {},
   "source": [
    "# 3 工具变量回归"
   ]
  },
  {
   "cell_type": "code",
   "execution_count": 25,
   "id": "b631eb1d",
   "metadata": {},
   "outputs": [],
   "source": [
    "from statsmodels.sandbox.regression.gmm import IV2SLS\n",
    "import statsmodels.api as sm\n",
    "import statsmodels.formula.api as smf\n",
    "import linearmodels.iv.model as lm\n",
    "\n",
    "whole_data=pd.read_csv(\"whole_data_female.csv\")\n",
    "df=whole_data[['TotalSalary','Female','Age','Female_board_per', 'tobinq', 'asset', 'roa', 'debt_asset', 'IsDuality','Female_mng_per','Female_monitor_per']]\n",
    "df.head()\n",
    "df[\"TotalSalary\"] = (df[\"TotalSalary\"]+1).apply(np.log1p)\n",
    "df[\"asset\"] = (df[\"asset\"]+1).apply(np.log1p)\n",
    "df=df.dropna()\n",
    "\n"
   ]
  },
  {
   "cell_type": "code",
   "execution_count": 26,
   "id": "e6f26c61",
   "metadata": {
    "scrolled": true
   },
   "outputs": [
    {
     "name": "stdout",
     "output_type": "stream",
     "text": [
      "                          IV-2SLS Estimation Summary                          \n",
      "==============================================================================\n",
      "Dep. Variable:            TotalSalary   R-squared:                      0.9466\n",
      "Estimator:                    IV-2SLS   Adj. R-squared:                 0.9466\n",
      "No. Observations:               35958   F-statistic:                 7.398e+05\n",
      "Date:                Thu, Dec 14 2023   P-value (F-stat)                0.0000\n",
      "Time:                        11:57:36   Distribution:                  chi2(8)\n",
      "Cov. Estimator:                robust                                         \n",
      "                                                                              \n",
      "                                Parameter Estimates                                 \n",
      "====================================================================================\n",
      "                  Parameter  Std. Err.     T-stat    P-value    Lower CI    Upper CI\n",
      "------------------------------------------------------------------------------------\n",
      "Age                  0.0276     0.0025     10.863     0.0000      0.0226      0.0325\n",
      "tobinq               0.0965     0.0116     8.2866     0.0000      0.0737      0.1193\n",
      "asset                0.5271     0.0063     83.176     0.0000      0.5146      0.5395\n",
      "roa                  1.8069     0.3283     5.5035     0.0000      1.1634      2.4503\n",
      "debt_asset          -1.3413     0.0941    -14.261     0.0000     -1.5256     -1.1570\n",
      "Female_board_per    -3.6654     1.0034    -3.6531     0.0003     -5.6319     -1.6988\n",
      "IsDuality            0.3541     0.0739     4.7888     0.0000      0.2092      0.4990\n",
      "Female               9.6196     2.0466     4.7003     0.0000      5.6084      13.631\n",
      "====================================================================================\n",
      "\n",
      "Endogenous: Female\n",
      "Instruments: Female_mng_per, Female_monitor_per\n",
      "Robust Covariance (Heteroskedastic)\n",
      "Debiased: False\n",
      "    First Stage Estimation Results    \n",
      "======================================\n",
      "                                Female\n",
      "--------------------------------------\n",
      "R-squared                       0.1214\n",
      "Partial R-squared               0.0011\n",
      "Shea's R-squared                0.0011\n",
      "Partial F-statistic             36.355\n",
      "P-value (Partial F-stat)     1.275e-08\n",
      "Partial F-stat Distn           chi2(2)\n",
      "========================== ===========\n",
      "Age                            -0.0002\n",
      "                             (-1.1893)\n",
      "tobinq                          0.0006\n",
      "                              (0.7238)\n",
      "asset                           0.0002\n",
      "                              (0.3731)\n",
      "roa                             0.0740\n",
      "                              (3.5264)\n",
      "debt_asset                      0.0005\n",
      "                              (0.0741)\n",
      "Female_board_per                0.4848\n",
      "                              (35.634)\n",
      "IsDuality                      -0.0305\n",
      "                             (-10.695)\n",
      "Female_mng_per                 -0.0144\n",
      "                             (-1.8539)\n",
      "Female_monitor_per              0.0303\n",
      "                              (5.9248)\n",
      "--------------------------------------\n",
      "\n",
      "T-stats reported in parentheses\n",
      "T-stats use same covariance type as original model\n"
     ]
    }
   ],
   "source": [
    "exog_var = df[['Age', 'tobinq', 'asset', 'roa', 'debt_asset','Female_board_per', 'IsDuality']]\n",
    "iv_var=df[['Female_mng_per','Female_monitor_per']]\n",
    "mlr2 = lm.IV2SLS(dependent=y, exog=exog_var,  endog=df[\"Female\"], instruments=iv_var).fit()\n",
    "\n",
    "print(mlr2)\n",
    "print(mlr2.first_stage)"
   ]
  },
  {
   "cell_type": "code",
   "execution_count": 22,
   "id": "78dea47b",
   "metadata": {},
   "outputs": [
    {
     "name": "stdout",
     "output_type": "stream",
     "text": [
      "Wu-Hausman test of exogeneity\n",
      "H0: All endogenous variables are exogenous\n",
      "Statistic: 95.0898\n",
      "P-value: 0.0000\n",
      "Distributed: F(1,35949)\n",
      "Sargan's test of overidentification\n",
      "H0: The model is not overidentified.\n",
      "Statistic: 44.3575\n",
      "P-value: 0.0000\n",
      "Distributed: chi2(1)\n"
     ]
    }
   ],
   "source": [
    "print(mlr2.wu_hausman())\n",
    "#wu_hausman test需要显著才可以通过，反应了加入工具变量后结果有较大改变\n",
    "\n",
    "print(mlr2.sargan)\n",
    "#sargan test需要不显著才可以通过，表明不存在过度识别问题，即外生性满足。注意，是至少需要sargan test通过；但即使通过，并不意味着外生性就满足了\n",
    "\n",
    "\n"
   ]
  },
  {
   "cell_type": "markdown",
   "id": "e484ca5b",
   "metadata": {},
   "source": [
    "# 4 DID\n"
   ]
  },
  {
   "attachments": {
    "image-2.png": {
     "image/png": "[encoded data removed]"
    }
   },
   "cell_type": "markdown",
   "id": "f9f698ab",
   "metadata": {},
   "source": [
    "1） treat post treat*post\n",
    "![image-2.png](attachment:image-2.png)\n",
    "2) treat treat*pre2 treat*pre1 treat*event treat*post1 treat*post2 i.time\n"
   ]
  },
  {
   "cell_type": "markdown",
   "id": "edb7b414",
   "metadata": {},
   "source": [
    "# 5  PSM&SC"
   ]
  },
  {
   "cell_type": "code",
   "execution_count": null,
   "id": "53beb053",
   "metadata": {},
   "outputs": [],
   "source": []
  },
  {
   "cell_type": "code",
   "execution_count": 29,
   "id": "3784f811",
   "metadata": {},
   "outputs": [],
   "source": [
    "from psmpy import PsmPy  \n",
    "from psmpy.functions import cohenD  \n",
    "from psmpy.plotting import *"
   ]
  },
  {
   "cell_type": "code",
   "execution_count": 30,
   "id": "2547758b",
   "metadata": {},
   "outputs": [],
   "source": [
    "whole_data=pd.read_csv(\"whole_data_female.csv\")\n",
    "df=whole_data[['stkcd','year','TotalSalary','Female','Age','Female_board_per', 'tobinq', 'asset', 'roa', 'debt_asset', 'IsDuality']]\n",
    "df[\"TotalSalary\"] = (df[\"TotalSalary\"]+1).apply(np.log1p)\n",
    "df[\"asset\"] = (df[\"asset\"]+1).apply(np.log1p)\n",
    "\n",
    "df_match_var=df[['year','Female','Age', 'tobinq', 'asset', 'roa', 'debt_asset','Female_board_per', 'IsDuality']]\n",
    "df_match_var['id'] = df_match_var.index + 1\n",
    "df_match_var.head()  \n",
    "df_match_var=df_match_var.query('year==2011 ')\n",
    "#df_match_var = df_match_var.drop(['yyyy'], axis=1)  #删除a列"
   ]
  },
  {
   "cell_type": "code",
   "execution_count": 31,
   "id": "86b627e2",
   "metadata": {},
   "outputs": [],
   "source": [
    "psm = PsmPy(df_match_var, treatment='Female', indx='id', exclude = ['year'])\n",
    "#exclude- （可选）参数，将忽略在模型拟合过程中传递给它的任何协变量（columns）。这将是一个字符串列表。这里不需要传递唯一索引列。"
   ]
  },
  {
   "cell_type": "code",
   "execution_count": 32,
   "id": "aeb37f13",
   "metadata": {},
   "outputs": [],
   "source": [
    "psm.logistic_ps(balance = True)\n",
    "#计算逻辑倾向得分/logits："
   ]
  },
  {
   "cell_type": "code",
   "execution_count": 33,
   "id": "9b6038df",
   "metadata": {},
   "outputs": [],
   "source": [
    "psm.knn_matched_12n(matcher='propensity_logit', how_many=1)\n",
    "#matcher- propensity_logit（默认）并在上一步中生成的替代选项是propensity_score，进行匹配时将指定参数。\n",
    "#how_many- 1（默认 1:1 匹配），确定匹配是 1:1 还是 1:n，其中 'n' 是您希望从较小的（treatment类）匹配到较大类的唯一次数"
   ]
  },
  {
   "cell_type": "code",
   "execution_count": 34,
   "id": "1fdbb12c",
   "metadata": {},
   "outputs": [
    {
     "data": {
      "image/png": "[encoded data removed]",
      "text/plain": [
       "<Figure size 720x576 with 1 Axes>"
      ]
     },
     "metadata": {},
     "output_type": "display_data"
    }
   ],
   "source": [
    "psm.plot_match(Title='Side by side matched controls', Ylabel='Number', Xlabel= 'Propensity logit', names = ['treatment', 'control'], \n",
    "               save=True)\n"
   ]
  },
  {
   "cell_type": "code",
   "execution_count": 29,
   "id": "32f9731b",
   "metadata": {},
   "outputs": [
    {
     "data": {
      "image/png": "[encoded data removed]",
      "text/plain": [
       "<Figure size 720x576 with 1 Axes>"
      ]
     },
     "metadata": {},
     "output_type": "display_data"
    }
   ],
   "source": [
    "psm.effect_size_plot(save=False)\n"
   ]
  },
  {
   "cell_type": "code",
   "execution_count": 30,
   "id": "0ef096d6",
   "metadata": {},
   "outputs": [
    {
     "name": "stdout",
     "output_type": "stream",
     "text": [
      "<class 'pandas.core.frame.DataFrame'>\n"
     ]
    },
    {
     "data": {
      "text/html": [
       "<div>\n",
       "<style scoped>\n",
       "    .dataframe tbody tr th:only-of-type {\n",
       "        vertical-align: middle;\n",
       "    }\n",
       "\n",
       "    .dataframe tbody tr th {\n",
       "        vertical-align: top;\n",
       "    }\n",
       "\n",
       "    .dataframe thead th {\n",
       "        text-align: right;\n",
       "    }\n",
       "</style>\n",
       "<table border=\"1\" class=\"dataframe\">\n",
       "  <thead>\n",
       "    <tr style=\"text-align: right;\">\n",
       "      <th></th>\n",
       "      <th>id</th>\n",
       "      <th>largerclass_0group</th>\n",
       "    </tr>\n",
       "  </thead>\n",
       "  <tbody>\n",
       "    <tr>\n",
       "      <th>0</th>\n",
       "      <td>462</td>\n",
       "      <td>13260</td>\n",
       "    </tr>\n",
       "    <tr>\n",
       "      <th>1</th>\n",
       "      <td>529</td>\n",
       "      <td>13700</td>\n",
       "    </tr>\n",
       "    <tr>\n",
       "      <th>2</th>\n",
       "      <td>648</td>\n",
       "      <td>11220</td>\n",
       "    </tr>\n",
       "    <tr>\n",
       "      <th>3</th>\n",
       "      <td>727</td>\n",
       "      <td>9898</td>\n",
       "    </tr>\n",
       "    <tr>\n",
       "      <th>4</th>\n",
       "      <td>1073</td>\n",
       "      <td>29834</td>\n",
       "    </tr>\n",
       "    <tr>\n",
       "      <th>...</th>\n",
       "      <td>...</td>\n",
       "      <td>...</td>\n",
       "    </tr>\n",
       "    <tr>\n",
       "      <th>162</th>\n",
       "      <td>32982</td>\n",
       "      <td>30530</td>\n",
       "    </tr>\n",
       "    <tr>\n",
       "      <th>163</th>\n",
       "      <td>33197</td>\n",
       "      <td>8995</td>\n",
       "    </tr>\n",
       "    <tr>\n",
       "      <th>164</th>\n",
       "      <td>33198</td>\n",
       "      <td>17167</td>\n",
       "    </tr>\n",
       "    <tr>\n",
       "      <th>165</th>\n",
       "      <td>33373</td>\n",
       "      <td>13373</td>\n",
       "    </tr>\n",
       "    <tr>\n",
       "      <th>166</th>\n",
       "      <td>33646</td>\n",
       "      <td>3859</td>\n",
       "    </tr>\n",
       "  </tbody>\n",
       "</table>\n",
       "<p>167 rows × 2 columns</p>\n",
       "</div>"
      ],
      "text/plain": [
       "        id  largerclass_0group\n",
       "0      462               13260\n",
       "1      529               13700\n",
       "2      648               11220\n",
       "3      727                9898\n",
       "4     1073               29834\n",
       "..     ...                 ...\n",
       "162  32982               30530\n",
       "163  33197                8995\n",
       "164  33198               17167\n",
       "165  33373               13373\n",
       "166  33646                3859\n",
       "\n",
       "[167 rows x 2 columns]"
      ]
     },
     "execution_count": 30,
     "metadata": {},
     "output_type": "execute_result"
    }
   ],
   "source": [
    "match_id=psm.matched_ids\n",
    "print(type(match_id))\n",
    "match_id"
   ]
  },
  {
   "cell_type": "code",
   "execution_count": 31,
   "id": "8f8892ab",
   "metadata": {},
   "outputs": [
    {
     "data": {
      "text/html": [
       "<div>\n",
       "<style scoped>\n",
       "    .dataframe tbody tr th:only-of-type {\n",
       "        vertical-align: middle;\n",
       "    }\n",
       "\n",
       "    .dataframe tbody tr th {\n",
       "        vertical-align: top;\n",
       "    }\n",
       "\n",
       "    .dataframe thead th {\n",
       "        text-align: right;\n",
       "    }\n",
       "</style>\n",
       "<table border=\"1\" class=\"dataframe\">\n",
       "  <thead>\n",
       "    <tr style=\"text-align: right;\">\n",
       "      <th></th>\n",
       "      <th>Variable</th>\n",
       "      <th>matching</th>\n",
       "      <th>Effect Size</th>\n",
       "    </tr>\n",
       "  </thead>\n",
       "  <tbody>\n",
       "    <tr>\n",
       "      <th>0</th>\n",
       "      <td>Age</td>\n",
       "      <td>before</td>\n",
       "      <td>-0.147766</td>\n",
       "    </tr>\n",
       "    <tr>\n",
       "      <th>1</th>\n",
       "      <td>Age</td>\n",
       "      <td>after</td>\n",
       "      <td>-0.023146</td>\n",
       "    </tr>\n",
       "    <tr>\n",
       "      <th>2</th>\n",
       "      <td>tobinq</td>\n",
       "      <td>before</td>\n",
       "      <td>0.069236</td>\n",
       "    </tr>\n",
       "    <tr>\n",
       "      <th>3</th>\n",
       "      <td>tobinq</td>\n",
       "      <td>after</td>\n",
       "      <td>-0.098550</td>\n",
       "    </tr>\n",
       "    <tr>\n",
       "      <th>4</th>\n",
       "      <td>asset</td>\n",
       "      <td>before</td>\n",
       "      <td>-0.208536</td>\n",
       "    </tr>\n",
       "    <tr>\n",
       "      <th>5</th>\n",
       "      <td>asset</td>\n",
       "      <td>after</td>\n",
       "      <td>0.070667</td>\n",
       "    </tr>\n",
       "    <tr>\n",
       "      <th>6</th>\n",
       "      <td>roa</td>\n",
       "      <td>before</td>\n",
       "      <td>0.291141</td>\n",
       "    </tr>\n",
       "    <tr>\n",
       "      <th>7</th>\n",
       "      <td>roa</td>\n",
       "      <td>after</td>\n",
       "      <td>0.089081</td>\n",
       "    </tr>\n",
       "    <tr>\n",
       "      <th>8</th>\n",
       "      <td>debt_asset</td>\n",
       "      <td>before</td>\n",
       "      <td>-0.174348</td>\n",
       "    </tr>\n",
       "    <tr>\n",
       "      <th>9</th>\n",
       "      <td>debt_asset</td>\n",
       "      <td>after</td>\n",
       "      <td>0.170078</td>\n",
       "    </tr>\n",
       "    <tr>\n",
       "      <th>10</th>\n",
       "      <td>Female_board_per</td>\n",
       "      <td>before</td>\n",
       "      <td>1.126380</td>\n",
       "    </tr>\n",
       "    <tr>\n",
       "      <th>11</th>\n",
       "      <td>Female_board_per</td>\n",
       "      <td>after</td>\n",
       "      <td>0.005901</td>\n",
       "    </tr>\n",
       "    <tr>\n",
       "      <th>12</th>\n",
       "      <td>IsDuality</td>\n",
       "      <td>before</td>\n",
       "      <td>-0.205255</td>\n",
       "    </tr>\n",
       "    <tr>\n",
       "      <th>13</th>\n",
       "      <td>IsDuality</td>\n",
       "      <td>after</td>\n",
       "      <td>0.183345</td>\n",
       "    </tr>\n",
       "  </tbody>\n",
       "</table>\n",
       "</div>"
      ],
      "text/plain": [
       "            Variable matching  Effect Size\n",
       "0                Age   before    -0.147766\n",
       "1                Age    after    -0.023146\n",
       "2             tobinq   before     0.069236\n",
       "3             tobinq    after    -0.098550\n",
       "4              asset   before    -0.208536\n",
       "5              asset    after     0.070667\n",
       "6                roa   before     0.291141\n",
       "7                roa    after     0.089081\n",
       "8         debt_asset   before    -0.174348\n",
       "9         debt_asset    after     0.170078\n",
       "10  Female_board_per   before     1.126380\n",
       "11  Female_board_per    after     0.005901\n",
       "12         IsDuality   before    -0.205255\n",
       "13         IsDuality    after     0.183345"
      ]
     },
     "execution_count": 31,
     "metadata": {},
     "output_type": "execute_result"
    }
   ],
   "source": [
    "psm.effect_size\n"
   ]
  },
  {
   "cell_type": "markdown",
   "id": "079e1252",
   "metadata": {},
   "source": [
    "# 6 logit probit"
   ]
  },
  {
   "cell_type": "code",
   "execution_count": 32,
   "id": "90d19d90",
   "metadata": {},
   "outputs": [
    {
     "name": "stdout",
     "output_type": "stream",
     "text": [
      "Optimization terminated successfully.\n",
      "         Current function value: 0.205225\n",
      "         Iterations 8\n",
      "                           Logit Regression Results                           \n",
      "==============================================================================\n",
      "Dep. Variable:                 Female   No. Observations:                36143\n",
      "Model:                          Logit   Df Residuals:                    36138\n",
      "Method:                           MLE   Df Model:                            4\n",
      "Date:                Thu, 11 May 2023   Pseudo R-squ.:                  0.1131\n",
      "Time:                        21:38:52   Log-Likelihood:                -7417.5\n",
      "converged:                       True   LL-Null:                       -8363.2\n",
      "Covariance Type:            nonrobust   LLR p-value:                     0.000\n",
      "====================================================================================\n",
      "                       coef    std err          z      P>|z|      [0.025      0.975]\n",
      "------------------------------------------------------------------------------------\n",
      "Intercept           -2.6790      0.409     -6.543      0.000      -3.481      -1.876\n",
      "asset               -0.0707      0.020     -3.599      0.000      -0.109      -0.032\n",
      "roa                  1.4020      0.381      3.684      0.000       0.656       2.148\n",
      "debt_asset           0.3203      0.129      2.486      0.013       0.068       0.573\n",
      "Female_board_per     6.9484      0.165     42.082      0.000       6.625       7.272\n",
      "====================================================================================\n"
     ]
    }
   ],
   "source": [
    "from patsy import dmatrices\n",
    "\n",
    "y,X = dmatrices('Female ~ asset + roa + debt_asset+ Female_board_per',data = df,return_type='dataframe')\n",
    "#patsy.dmatrices('y ~ x0 + x1 + 0', data) 默认有截距项，加上0表示删去截距\n",
    "logit = sm.Logit(y,X)\n",
    "results = logit.fit()\n",
    "print(results.summary())"
   ]
  },
  {
   "cell_type": "code",
   "execution_count": 33,
   "id": "8d32b3a0",
   "metadata": {},
   "outputs": [
    {
     "name": "stdout",
     "output_type": "stream",
     "text": [
      "        Logit Marginal Effects       \n",
      "=====================================\n",
      "Dep. Variable:                 Female\n",
      "Method:                          dydx\n",
      "At:                           overall\n",
      "====================================================================================\n",
      "                      dy/dx    std err          z      P>|z|      [0.025      0.975]\n",
      "------------------------------------------------------------------------------------\n",
      "asset               -0.0038      0.001     -3.595      0.000      -0.006      -0.002\n",
      "roa                  0.0752      0.020      3.681      0.000       0.035       0.115\n",
      "debt_asset           0.0172      0.007      2.485      0.013       0.004       0.031\n",
      "Female_board_per     0.3729      0.010     38.008      0.000       0.354       0.392\n",
      "====================================================================================\n"
     ]
    }
   ],
   "source": [
    "margeff = results.get_margeff()\n",
    "print(margeff.summary())\n"
   ]
  },
  {
   "cell_type": "code",
   "execution_count": 34,
   "id": "1c313371",
   "metadata": {},
   "outputs": [
    {
     "name": "stdout",
     "output_type": "stream",
     "text": [
      "Optimization terminated successfully.\n",
      "         Current function value: 0.204195\n",
      "         Iterations 7\n",
      "                          Probit Regression Results                           \n",
      "==============================================================================\n",
      "Dep. Variable:                 Female   No. Observations:                36143\n",
      "Model:                         Probit   Df Residuals:                    36138\n",
      "Method:                           MLE   Df Model:                            4\n",
      "Date:                Thu, 11 May 2023   Pseudo R-squ.:                  0.1175\n",
      "Time:                        21:38:52   Log-Likelihood:                -7380.2\n",
      "converged:                       True   LL-Null:                       -8363.2\n",
      "Covariance Type:            nonrobust   LLR p-value:                     0.000\n",
      "====================================================================================\n",
      "                       coef    std err          z      P>|z|      [0.025      0.975]\n",
      "------------------------------------------------------------------------------------\n",
      "Intercept           -1.5008      0.197     -7.631      0.000      -1.886      -1.115\n",
      "asset               -0.0363      0.009     -3.841      0.000      -0.055      -0.018\n",
      "roa                  0.6879      0.186      3.693      0.000       0.323       1.053\n",
      "debt_asset           0.1624      0.063      2.579      0.010       0.039       0.286\n",
      "Female_board_per     3.6096      0.086     41.904      0.000       3.441       3.778\n",
      "====================================================================================\n"
     ]
    }
   ],
   "source": [
    "probit_model = sm.Probit(y,X)\n",
    "results = probit_model.fit()\n",
    "print(results.summary())\n"
   ]
  },
  {
   "cell_type": "code",
   "execution_count": 35,
   "id": "53267697",
   "metadata": {},
   "outputs": [
    {
     "name": "stdout",
     "output_type": "stream",
     "text": [
      "       Probit Marginal Effects       \n",
      "=====================================\n",
      "Dep. Variable:                 Female\n",
      "Method:                          dydx\n",
      "At:                           overall\n",
      "====================================================================================\n",
      "                      dy/dx    std err          z      P>|z|      [0.025      0.975]\n",
      "------------------------------------------------------------------------------------\n",
      "asset               -0.0039      0.001     -3.838      0.000      -0.006      -0.002\n",
      "roa                  0.0742      0.020      3.690      0.000       0.035       0.114\n",
      "debt_asset           0.0175      0.007      2.578      0.010       0.004       0.031\n",
      "Female_board_per     0.3892      0.010     39.222      0.000       0.370       0.409\n",
      "====================================================================================\n"
     ]
    }
   ],
   "source": [
    "margeff = results.get_margeff()\n",
    "print(margeff.summary())\n"
   ]
  },
  {
   "cell_type": "markdown",
   "id": "1c87348a",
   "metadata": {},
   "source": [
    "# 7 tobit and trunc"
   ]
  },
  {
   "cell_type": "code",
   "execution_count": 36,
   "id": "c5ea5361",
   "metadata": {},
   "outputs": [],
   "source": [
    "from py4etrics.truncreg import Truncreg\n",
    "from py4etrics.tobit import Tobit\n",
    "whole_data=pd.read_csv(\"whole_data_female.csv\")\n",
    "df=whole_data[['Female_mng_per','TotalSalary','Female','Age','Female_board_per', 'tobinq', 'asset', 'roa', 'debt_asset', 'IsDuality',\"Female_monitor_per\",'Indirect_per']]\n",
    "df[\"TotalSalary\"] = (df[\"TotalSalary\"]+1).apply(np.log1p)\n",
    "df[\"asset\"] = (df[\"asset\"]+1).apply(np.log1p)\n",
    "df=df.dropna()\n"
   ]
  },
  {
   "cell_type": "code",
   "execution_count": 37,
   "id": "a31005f0",
   "metadata": {},
   "outputs": [
    {
     "name": "stdout",
     "output_type": "stream",
     "text": [
      "                            OLS Regression Results                            \n",
      "==============================================================================\n",
      "Dep. Variable:         Female_mng_per   R-squared:                       0.097\n",
      "Model:                            OLS   Adj. R-squared:                  0.096\n",
      "Method:                 Least Squares   F-statistic:                     768.7\n",
      "Date:                Thu, 14 Dec 2023   Prob (F-statistic):               0.00\n",
      "Time:                        12:13:09   Log-Likelihood:                 11167.\n",
      "No. Observations:               35958   AIC:                        -2.232e+04\n",
      "Df Residuals:                   35952   BIC:                        -2.227e+04\n",
      "Df Model:                           5                                         \n",
      "Covariance Type:            nonrobust                                         \n",
      "====================================================================================\n",
      "                       coef    std err          t      P>|t|      [0.025      0.975]\n",
      "------------------------------------------------------------------------------------\n",
      "const                0.3106      0.017     18.408      0.000       0.278       0.344\n",
      "asset               -0.0098      0.001    -12.894      0.000      -0.011      -0.008\n",
      "roa                 -0.0524      0.016     -3.356      0.001      -0.083      -0.022\n",
      "debt_asset          -0.0419      0.005     -7.864      0.000      -0.052      -0.031\n",
      "Female_board_per     0.4214      0.008     55.122      0.000       0.406       0.436\n",
      "Indirect_per         0.1109      0.018      6.134      0.000       0.075       0.146\n",
      "==============================================================================\n",
      "Omnibus:                     3636.040   Durbin-Watson:                   0.540\n",
      "Prob(Omnibus):                  0.000   Jarque-Bera (JB):             4830.998\n",
      "Skew:                           0.872   Prob(JB):                         0.00\n",
      "Kurtosis:                       3.427   Cond. No.                         484.\n",
      "==============================================================================\n",
      "\n",
      "Notes:\n",
      "[1] Standard Errors assume that the covariance matrix of the errors is correctly specified.\n"
     ]
    }
   ],
   "source": [
    "\n",
    "x1 = df[[ 'asset', 'roa', 'debt_asset',\"Female_board_per\",'Indirect_per']]\n",
    "x1 = sm.add_constant(x1) \n",
    "y = df['Female_mng_per']\n",
    "\n",
    "result = sm.OLS(y, x1, missing=\"drop\").fit()\n",
    "print(result.summary())\n"
   ]
  },
  {
   "cell_type": "code",
   "execution_count": 38,
   "id": "139f07ca",
   "metadata": {},
   "outputs": [
    {
     "name": "stdout",
     "output_type": "stream",
     "text": [
      "Optimization terminated successfully.\n",
      "         Current function value: 0.375338\n",
      "         Iterations: 783\n",
      "         Function evaluations: 1170\n",
      "                              Tobit Regression Results                             \n",
      "===================================================================================\n",
      "Dep. Variable:              Female_mng_per   Pseudo R-squ:                    0.108\n",
      "Method:                 Maximum Likelihood   Log-Likelihood:               -13496.4\n",
      "No. Observations:                    35958   LL-Null:                      -15124.5\n",
      "No. Uncensored Obs:                  21754   LL-Ratio:                       3256.1\n",
      "No. Left-censored Obs:               14204   LLR p-value:                     0.000\n",
      "No. Right-censored Obs:                  0   AIC:                           27004.8\n",
      "Df Residuals:                        35952   BIC:                           27055.7\n",
      "Df Model:                                5   Covariance Type:             nonrobust\n",
      "====================================================================================\n",
      "                       coef    std err          z      P>|z|      [0.025      0.975]\n",
      "------------------------------------------------------------------------------------\n",
      "Intercept            0.2683      0.027      9.796      0.000       0.215       0.322\n",
      "asset               -0.0123      0.001    -10.019      0.000      -0.015      -0.010\n",
      "roa                 -0.0232      0.025     -0.926      0.354      -0.072       0.026\n",
      "debt_asset          -0.0736      0.009     -8.589      0.000      -0.090      -0.057\n",
      "Female_board_per     0.6288      0.012     51.709      0.000       0.605       0.653\n",
      "Indirect_per         0.1326      0.029      4.592      0.000       0.076       0.189\n",
      "Log(Sigma)          -1.3240      0.005   -251.163      0.000      -1.334      -1.314\n",
      "====================================================================================\n"
     ]
    }
   ],
   "source": [
    "left = 0\n",
    "censor = df['Female_mng_per'].apply(lambda x: -1 if x==left else 0)\n",
    "res_tobit = Tobit.from_formula('Female_mng_per ~ asset + roa + debt_asset+ Female_board_per+ Indirect_per',cens=censor,left=0,data=df).fit()\n",
    "print(res_tobit.summary())"
   ]
  },
  {
   "cell_type": "code",
   "execution_count": null,
   "id": "c4548514",
   "metadata": {},
   "outputs": [],
   "source": [
    "df_drop0 = df.query('Female_mng_per > 0')  #仅仅取出df中Female_mng_per大于0的，产生截尾数据\n",
    "\n",
    "res_trunc = Truncreg.from_formula('Female_mng_per ~ asset + roa + debt_asset+ Female_board_per+ Indirect_per',left=0,data=df_drop0).fit()\n",
    "print(res_trunc.summary())\n"
   ]
  },
  {
   "cell_type": "code",
   "execution_count": null,
   "id": "c3413717",
   "metadata": {},
   "outputs": [],
   "source": []
  },
  {
   "cell_type": "code",
   "execution_count": null,
   "id": "4690b9cc",
   "metadata": {},
   "outputs": [],
   "source": []
  },
  {
   "cell_type": "code",
   "execution_count": null,
   "id": "b40a81a3",
   "metadata": {},
   "outputs": [],
   "source": []
  }
 ],
 "metadata": {
  "kernelspec": {
   "display_name": "Python 3 (ipykernel)",
   "language": "python",
   "name": "python3"
  },
  "language_info": {
   "codemirror_mode": {
    "name": "ipython",
    "version": 3
   },
   "file_extension": ".py",
   "mimetype": "text/x-python",
   "name": "python",
   "nbconvert_exporter": "python",
   "pygments_lexer": "ipython3",
   "version": "3.9.12"
  }
 },
 "nbformat": 4,
 "nbformat_minor": 5
}
